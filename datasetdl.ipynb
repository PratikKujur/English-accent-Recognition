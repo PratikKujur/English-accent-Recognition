{
 "cells": [
  {
   "cell_type": "code",
   "execution_count": 1,
   "metadata": {},
   "outputs": [
    {
     "name": "stdout",
     "output_type": "stream",
     "text": [
      "Git LFS initialized.\n"
     ]
    }
   ],
   "source": [
    "!git lfs install"
   ]
  },
  {
   "cell_type": "code",
   "execution_count": 2,
   "metadata": {},
   "outputs": [
    {
     "name": "stderr",
     "output_type": "stream",
     "text": [
      "Cloning into 'GLOBE'...\n",
      "Updating files:  80% (90/112)\n",
      "Updating files:  81% (91/112)\n",
      "Updating files:  82% (92/112)\n",
      "Updating files:  83% (93/112)\n",
      "Updating files:  84% (95/112)\n",
      "Updating files:  85% (96/112)\n",
      "Updating files:  86% (97/112)\n",
      "Updating files:  87% (98/112)\n",
      "Updating files:  88% (99/112)\n",
      "Updating files:  89% (100/112)\n",
      "Updating files:  90% (101/112)\n",
      "Updating files:  91% (102/112)\n",
      "Updating files:  92% (104/112)\n",
      "Updating files:  93% (105/112)\n",
      "Updating files:  94% (106/112)\n",
      "Updating files:  95% (107/112)\n",
      "Updating files:  96% (108/112)\n",
      "Updating files:  97% (109/112)\n",
      "Updating files:  98% (110/112)\n",
      "Updating files:  99% (111/112)\n",
      "Updating files: 100% (112/112)\n",
      "Updating files: 100% (112/112), done.\n",
      "Filtering content:   1% (2/110)\n",
      "Filtering content:   1% (2/110), 868.15 MiB | 65.11 MiB/s\n",
      "Filtering content:   2% (3/110), 868.15 MiB | 65.11 MiB/s\n",
      "Filtering content:   2% (3/110), 1.27 GiB | 71.12 MiB/s  \n",
      "Filtering content:   3% (4/110), 1.27 GiB | 71.12 MiB/s\n",
      "Filtering content:   3% (4/110), 1.69 GiB | 72.69 MiB/s\n",
      "Filtering content:   4% (5/110), 1.69 GiB | 72.69 MiB/s\n",
      "Filtering content:   4% (5/110), 2.12 GiB | 73.56 MiB/s\n",
      "Filtering content:   5% (6/110), 2.12 GiB | 73.56 MiB/s\n",
      "Filtering content:   5% (6/110), 2.55 GiB | 75.07 MiB/s\n",
      "Filtering content:   6% (7/110), 2.55 GiB | 75.07 MiB/s\n",
      "Filtering content:   6% (7/110), 2.97 GiB | 75.71 MiB/s\n",
      "Filtering content:   7% (8/110), 2.97 GiB | 75.71 MiB/s\n",
      "Filtering content:   7% (8/110), 3.40 GiB | 76.83 MiB/s\n",
      "Filtering content:   8% (9/110), 3.40 GiB | 76.83 MiB/s\n",
      "Filtering content:   8% (9/110), 3.82 GiB | 11.20 MiB/s\n",
      "Filtering content:   9% (10/110), 3.82 GiB | 11.20 MiB/s\n",
      "Filtering content:   9% (10/110), 4.24 GiB | 12.38 MiB/s\n",
      "Filtering content:  10% (11/110), 4.24 GiB | 12.38 MiB/s\n",
      "Filtering content:  10% (11/110), 4.66 GiB | 12.36 MiB/s\n",
      "Filtering content:  10% (12/110), 5.07 GiB | 12.34 MiB/s\n",
      "Filtering content:  11% (13/110), 5.07 GiB | 12.34 MiB/s\n",
      "Filtering content:  11% (13/110), 5.49 GiB | 12.33 MiB/s\n",
      "Filtering content:  12% (14/110), 5.49 GiB | 12.33 MiB/s\n",
      "Filtering content:  12% (14/110), 5.91 GiB | 12.31 MiB/s\n",
      "Filtering content:  13% (15/110), 5.91 GiB | 12.31 MiB/s\n",
      "Filtering content:  13% (15/110), 6.33 GiB | 12.29 MiB/s\n",
      "Filtering content:  14% (16/110), 6.33 GiB | 12.29 MiB/s\n",
      "Filtering content:  14% (16/110), 6.75 GiB | 12.27 MiB/s\n",
      "Filtering content:  15% (17/110), 6.75 GiB | 12.27 MiB/s\n",
      "Filtering content:  15% (17/110), 7.16 GiB | 6.66 MiB/s \n",
      "Filtering content:  16% (18/110), 7.16 GiB | 6.66 MiB/s\n",
      "Filtering content:  16% (18/110), 7.58 GiB | 12.29 MiB/s\n",
      "Filtering content:  17% (19/110), 7.58 GiB | 12.29 MiB/s\n",
      "Filtering content:  17% (19/110), 7.99 GiB | 12.25 MiB/s\n",
      "Filtering content:  18% (20/110), 7.99 GiB | 12.25 MiB/s\n",
      "Filtering content:  18% (20/110), 8.40 GiB | 12.28 MiB/s\n",
      "Filtering content:  19% (21/110), 8.40 GiB | 12.28 MiB/s\n",
      "Filtering content:  19% (21/110), 8.82 GiB | 12.28 MiB/s\n",
      "Filtering content:  20% (22/110), 8.82 GiB | 12.28 MiB/s\n",
      "Filtering content:  20% (22/110), 9.23 GiB | 12.27 MiB/s\n",
      "Filtering content:  20% (23/110), 9.65 GiB | 12.25 MiB/s\n",
      "Filtering content:  21% (24/110), 9.65 GiB | 12.25 MiB/s\n",
      "Filtering content:  21% (24/110), 10.06 GiB | 12.24 MiB/s\n",
      "Filtering content:  22% (25/110), 10.06 GiB | 12.24 MiB/s\n",
      "Filtering content:  22% (25/110), 10.47 GiB | 6.69 MiB/s \n",
      "Filtering content:  23% (26/110), 10.47 GiB | 6.69 MiB/s\n",
      "Filtering content:  23% (26/110), 10.88 GiB | 12.43 MiB/s\n",
      "Filtering content:  24% (27/110), 10.88 GiB | 12.43 MiB/s\n",
      "Filtering content:  24% (27/110), 11.29 GiB | 12.45 MiB/s\n",
      "Filtering content:  25% (28/110), 11.29 GiB | 12.45 MiB/s\n",
      "Filtering content:  25% (28/110), 11.70 GiB | 12.46 MiB/s\n",
      "Filtering content:  26% (29/110), 11.70 GiB | 12.46 MiB/s\n",
      "Filtering content:  26% (29/110), 12.11 GiB | 12.44 MiB/s\n",
      "Filtering content:  27% (30/110), 12.11 GiB | 12.44 MiB/s\n",
      "Filtering content:  27% (30/110), 12.52 GiB | 12.42 MiB/s\n",
      "Filtering content:  28% (31/110), 12.52 GiB | 12.42 MiB/s\n",
      "Filtering content:  28% (31/110), 12.93 GiB | 12.43 MiB/s\n",
      "Filtering content:  29% (32/110), 12.93 GiB | 12.43 MiB/s\n",
      "Filtering content:  29% (32/110), 13.34 GiB | 12.43 MiB/s\n",
      "Filtering content:  30% (33/110), 13.34 GiB | 12.43 MiB/s\n",
      "Filtering content:  30% (33/110), 13.75 GiB | 6.61 MiB/s \n",
      "Filtering content:  30% (34/110), 14.16 GiB | 12.04 MiB/s\n",
      "Filtering content:  31% (35/110), 14.16 GiB | 12.04 MiB/s\n",
      "Filtering content:  31% (35/110), 14.57 GiB | 11.99 MiB/s\n",
      "Filtering content:  32% (36/110), 14.57 GiB | 11.99 MiB/s\n",
      "Filtering content:  32% (36/110), 14.98 GiB | 11.94 MiB/s\n",
      "Filtering content:  33% (37/110), 14.98 GiB | 11.94 MiB/s\n",
      "Filtering content:  33% (37/110), 15.38 GiB | 11.89 MiB/s\n",
      "Filtering content:  34% (38/110), 15.38 GiB | 11.89 MiB/s\n",
      "Filtering content:  34% (38/110), 15.79 GiB | 11.88 MiB/s\n",
      "Filtering content:  35% (39/110), 15.79 GiB | 11.88 MiB/s\n",
      "Filtering content:  35% (39/110), 16.20 GiB | 11.84 MiB/s\n",
      "Filtering content:  36% (40/110), 16.20 GiB | 11.84 MiB/s\n",
      "Filtering content:  36% (40/110), 16.60 GiB | 11.78 MiB/s\n",
      "Filtering content:  37% (41/110), 16.60 GiB | 11.78 MiB/s\n",
      "Filtering content:  37% (41/110), 17.00 GiB | 6.56 MiB/s \n",
      "Filtering content:  38% (42/110), 17.00 GiB | 6.56 MiB/s\n",
      "Filtering content:  38% (42/110), 17.40 GiB | 12.26 MiB/s\n",
      "Filtering content:  39% (43/110), 17.40 GiB | 12.26 MiB/s\n",
      "Filtering content:  39% (43/110), 17.81 GiB | 12.22 MiB/s\n",
      "Filtering content:  40% (44/110), 17.81 GiB | 12.22 MiB/s\n",
      "Filtering content:  40% (44/110), 18.21 GiB | 12.24 MiB/s\n",
      "Filtering content:  40% (45/110), 18.61 GiB | 12.24 MiB/s\n",
      "Filtering content:  41% (46/110), 18.61 GiB | 12.24 MiB/s\n",
      "Filtering content:  41% (46/110), 19.02 GiB | 12.27 MiB/s\n",
      "Filtering content:  42% (47/110), 19.02 GiB | 12.27 MiB/s\n",
      "Filtering content:  42% (47/110), 19.42 GiB | 11.76 MiB/s\n",
      "Filtering content:  43% (48/110), 19.42 GiB | 11.76 MiB/s\n",
      "Filtering content:  43% (48/110), 19.82 GiB | 11.63 MiB/s\n",
      "Filtering content:  44% (49/110), 19.82 GiB | 11.63 MiB/s\n",
      "Filtering content:  44% (49/110), 20.21 GiB | 4.53 MiB/s \n",
      "Filtering content:  45% (50/110), 20.21 GiB | 4.53 MiB/s\n",
      "Filtering content:  45% (50/110), 20.60 GiB | 6.54 MiB/s\n",
      "Filtering content:  46% (51/110), 20.60 GiB | 6.54 MiB/s\n",
      "Filtering content:  46% (51/110), 20.99 GiB | 6.53 MiB/s\n",
      "Filtering content:  47% (52/110), 20.99 GiB | 6.53 MiB/s\n",
      "Filtering content:  47% (52/110), 21.38 GiB | 6.51 MiB/s\n",
      "Filtering content:  48% (53/110), 21.38 GiB | 6.51 MiB/s\n",
      "Filtering content:  48% (53/110), 21.77 GiB | 6.49 MiB/s\n",
      "Filtering content:  49% (54/110), 21.77 GiB | 6.49 MiB/s\n",
      "Filtering content:  49% (54/110), 22.16 GiB | 6.12 MiB/s\n",
      "Filtering content:  50% (55/110), 22.16 GiB | 6.12 MiB/s\n",
      "Filtering content:  50% (55/110), 22.56 GiB | 5.99 MiB/s\n",
      "Filtering content:  50% (56/110), 22.95 GiB | 5.95 MiB/s\n",
      "Filtering content:  51% (57/110), 22.95 GiB | 5.95 MiB/s\n",
      "Filtering content:  51% (57/110), 23.33 GiB | 4.55 MiB/s\n",
      "Filtering content:  52% (58/110), 23.33 GiB | 4.55 MiB/s\n",
      "Filtering content:  52% (58/110), 23.72 GiB | 12.24 MiB/s\n",
      "Filtering content:  53% (59/110), 23.72 GiB | 12.24 MiB/s\n",
      "Filtering content:  53% (59/110), 24.11 GiB | 12.20 MiB/s\n",
      "Filtering content:  54% (60/110), 24.11 GiB | 12.20 MiB/s\n",
      "Filtering content:  54% (60/110), 24.49 GiB | 11.85 MiB/s\n",
      "Filtering content:  55% (61/110), 24.49 GiB | 11.85 MiB/s\n",
      "Filtering content:  55% (61/110), 24.88 GiB | 11.64 MiB/s\n",
      "Filtering content:  56% (62/110), 24.88 GiB | 11.64 MiB/s\n",
      "Filtering content:  56% (62/110), 25.27 GiB | 11.58 MiB/s\n",
      "Filtering content:  57% (63/110), 25.27 GiB | 11.58 MiB/s\n",
      "Filtering content:  57% (63/110), 25.65 GiB | 12.18 MiB/s\n",
      "Filtering content:  58% (64/110), 25.65 GiB | 12.18 MiB/s\n",
      "Filtering content:  58% (64/110), 26.04 GiB | 12.29 MiB/s\n",
      "Filtering content:  59% (65/110), 26.04 GiB | 12.29 MiB/s\n",
      "Filtering content:  59% (65/110), 26.42 GiB | 7.37 MiB/s \n",
      "Filtering content:  60% (66/110), 26.42 GiB | 7.37 MiB/s\n",
      "Filtering content:  60% (66/110), 26.80 GiB | 12.04 MiB/s\n",
      "Filtering content:  60% (67/110), 27.18 GiB | 12.03 MiB/s\n",
      "Filtering content:  61% (68/110), 27.18 GiB | 12.03 MiB/s\n",
      "Filtering content:  61% (68/110), 27.57 GiB | 12.02 MiB/s\n",
      "Filtering content:  62% (69/110), 27.57 GiB | 12.02 MiB/s\n",
      "Filtering content:  62% (69/110), 27.95 GiB | 12.38 MiB/s\n",
      "Filtering content:  63% (70/110), 27.95 GiB | 12.38 MiB/s\n",
      "Filtering content:  63% (70/110), 28.33 GiB | 10.12 MiB/s\n",
      "Filtering content:  64% (71/110), 28.33 GiB | 10.12 MiB/s\n",
      "Filtering content:  64% (71/110), 28.71 GiB | 9.70 MiB/s \n",
      "Filtering content:  65% (72/110), 28.71 GiB | 9.70 MiB/s\n",
      "Filtering content:  65% (72/110), 29.09 GiB | 8.70 MiB/s\n",
      "Filtering content:  66% (73/110), 29.09 GiB | 8.70 MiB/s\n",
      "Filtering content:  66% (73/110), 29.46 GiB | 7.00 MiB/s\n",
      "Filtering content:  67% (74/110), 29.46 GiB | 7.00 MiB/s\n",
      "Filtering content:  67% (74/110), 29.83 GiB | 11.92 MiB/s\n",
      "Filtering content:  68% (75/110), 29.83 GiB | 11.92 MiB/s\n",
      "Filtering content:  68% (75/110), 30.20 GiB | 11.89 MiB/s\n",
      "Filtering content:  69% (76/110), 30.20 GiB | 11.89 MiB/s\n",
      "Filtering content:  69% (76/110), 30.58 GiB | 11.56 MiB/s\n",
      "Filtering content:  70% (77/110), 30.58 GiB | 11.56 MiB/s\n",
      "Filtering content:  70% (77/110), 30.95 GiB | 11.53 MiB/s\n",
      "Filtering content:  70% (78/110), 31.32 GiB | 11.39 MiB/s\n",
      "Filtering content:  71% (79/110), 31.32 GiB | 11.39 MiB/s\n",
      "Filtering content:  71% (79/110), 31.68 GiB | 14.04 MiB/s\n",
      "Filtering content:  72% (80/110), 31.68 GiB | 14.04 MiB/s\n",
      "Filtering content:  72% (80/110), 32.04 GiB | 13.42 MiB/s\n",
      "Filtering content:  73% (81/110), 32.04 GiB | 13.42 MiB/s\n",
      "Filtering content:  73% (81/110), 32.37 GiB | 15.53 MiB/s\n",
      "Filtering content:  74% (82/110), 32.37 GiB | 15.53 MiB/s\n",
      "Filtering content:  74% (82/110), 32.72 GiB | 18.23 MiB/s\n",
      "Filtering content:  75% (83/110), 32.72 GiB | 18.23 MiB/s\n",
      "Filtering content:  75% (83/110), 33.15 GiB | 9.06 MiB/s \n",
      "Filtering content:  76% (84/110), 33.15 GiB | 9.06 MiB/s\n",
      "Filtering content:  76% (84/110), 33.58 GiB | 9.19 MiB/s\n",
      "Filtering content:  77% (85/110), 33.58 GiB | 9.19 MiB/s\n",
      "Filtering content:  77% (85/110), 34.04 GiB | 9.29 MiB/s\n",
      "Filtering content:  78% (86/110), 34.04 GiB | 9.29 MiB/s\n",
      "Filtering content:  78% (86/110), 34.49 GiB | 8.68 MiB/s\n",
      "Filtering content:  79% (87/110), 34.49 GiB | 8.68 MiB/s\n",
      "Filtering content:  79% (87/110), 34.94 GiB | 8.25 MiB/s\n",
      "Filtering content:  80% (88/110), 34.94 GiB | 8.25 MiB/s\n",
      "Filtering content:  80% (88/110), 35.38 GiB | 7.93 MiB/s\n",
      "Filtering content:  80% (89/110), 35.86 GiB | 7.93 MiB/s\n",
      "Filtering content:  81% (90/110), 35.86 GiB | 7.93 MiB/s\n",
      "Filtering content:  81% (90/110), 36.33 GiB | 7.75 MiB/s\n",
      "Filtering content:  82% (91/110), 36.33 GiB | 7.75 MiB/s\n",
      "Filtering content:  82% (91/110), 36.77 GiB | 103.00 KiB/s\n",
      "Filtering content:  83% (92/110), 36.77 GiB | 103.00 KiB/s\n",
      "Filtering content:  83% (92/110), 37.20 GiB | 109.00 KiB/s\n",
      "Filtering content:  84% (93/110), 37.20 GiB | 109.00 KiB/s\n",
      "Filtering content:  84% (93/110), 37.59 GiB | 21.00 KiB/s \n",
      "Filtering content:  85% (94/110), 37.59 GiB | 21.00 KiB/s\n",
      "Filtering content:  85% (94/110), 38.01 GiB | 8.47 MiB/s \n",
      "Filtering content:  86% (95/110), 38.01 GiB | 8.47 MiB/s\n",
      "Filtering content:  86% (95/110), 38.42 GiB | 8.62 MiB/s\n",
      "Filtering content:  87% (96/110), 38.42 GiB | 8.62 MiB/s\n",
      "Filtering content:  87% (96/110), 38.83 GiB | 8.09 MiB/s\n",
      "Filtering content:  88% (97/110), 38.83 GiB | 8.09 MiB/s\n",
      "Filtering content:  88% (97/110), 39.26 GiB | 7.90 MiB/s\n",
      "Filtering content:  89% (98/110), 39.26 GiB | 7.90 MiB/s\n",
      "Filtering content:  89% (98/110), 39.66 GiB | 8.31 MiB/s\n",
      "Filtering content:  90% (99/110), 39.66 GiB | 8.31 MiB/s\n",
      "Filtering content:  90% (99/110), 40.07 GiB | 8.29 MiB/s\n",
      "Filtering content:  90% (100/110), 40.46 GiB | 9.41 MiB/s\n",
      "Filtering content:  91% (101/110), 40.46 GiB | 9.41 MiB/s\n",
      "Filtering content:  91% (101/110), 40.86 GiB | 11.22 MiB/s\n",
      "Filtering content:  92% (102/110), 40.86 GiB | 11.22 MiB/s\n",
      "Filtering content:  92% (102/110), 41.26 GiB | 11.92 MiB/s\n",
      "Filtering content:  93% (103/110), 41.26 GiB | 11.92 MiB/s\n",
      "Filtering content:  93% (103/110), 41.65 GiB | 12.97 MiB/s\n",
      "Filtering content:  94% (104/110), 41.65 GiB | 12.97 MiB/s\n",
      "Filtering content:  94% (104/110), 42.05 GiB | 13.40 MiB/s\n",
      "Filtering content:  95% (105/110), 42.05 GiB | 13.40 MiB/s\n",
      "Filtering content:  95% (105/110), 42.44 GiB | 14.76 MiB/s\n",
      "Filtering content:  96% (106/110), 42.44 GiB | 14.76 MiB/s\n",
      "Filtering content:  96% (106/110), 42.84 GiB | 17.55 MiB/s\n",
      "Filtering content:  97% (107/110), 42.84 GiB | 17.55 MiB/s\n",
      "Filtering content:  97% (107/110), 43.22 GiB | 13.41 MiB/s\n",
      "Filtering content:  98% (108/110), 43.22 GiB | 13.41 MiB/s\n",
      "Filtering content:  98% (108/110), 43.61 GiB | 14.26 MiB/s\n",
      "Filtering content:  99% (109/110), 43.61 GiB | 14.26 MiB/s\n",
      "Filtering content:  99% (109/110), 44.00 GiB | 13.82 MiB/s\n",
      "Filtering content: 100% (110/110), 44.00 GiB | 13.82 MiB/s\n",
      "Filtering content: 100% (110/110), 44.33 GiB | 15.07 MiB/s\n",
      "Filtering content: 100% (110/110), 44.33 GiB | 8.71 MiB/s, done.\n",
      "error: invalid object 100644 23b64a47e5d0d3504e865b5b8c6910168b817d7d for 'data/test-00000-of-00001.parquet'\n"
     ]
    }
   ],
   "source": [
    "!git clone https://huggingface.co/datasets/MushanW/GLOBE\n"
   ]
  },
  {
   "cell_type": "code",
   "execution_count": 1,
   "metadata": {},
   "outputs": [],
   "source": [
    "import pandas as pd"
   ]
  },
  {
   "cell_type": "code",
   "execution_count": 2,
   "metadata": {},
   "outputs": [],
   "source": [
    "import pyarrow.parquet as pq"
   ]
  },
  {
   "cell_type": "code",
   "execution_count": 3,
   "metadata": {},
   "outputs": [
    {
     "data": {
      "text/html": [
       "<div>\n",
       "<style scoped>\n",
       "    .dataframe tbody tr th:only-of-type {\n",
       "        vertical-align: middle;\n",
       "    }\n",
       "\n",
       "    .dataframe tbody tr th {\n",
       "        vertical-align: top;\n",
       "    }\n",
       "\n",
       "    .dataframe thead th {\n",
       "        text-align: right;\n",
       "    }\n",
       "</style>\n",
       "<table border=\"1\" class=\"dataframe\">\n",
       "  <thead>\n",
       "    <tr style=\"text-align: right;\">\n",
       "      <th></th>\n",
       "      <th>audio</th>\n",
       "      <th>speaker_id</th>\n",
       "      <th>transcript</th>\n",
       "      <th>accent</th>\n",
       "      <th>duration</th>\n",
       "      <th>age</th>\n",
       "      <th>gender</th>\n",
       "    </tr>\n",
       "  </thead>\n",
       "  <tbody>\n",
       "    <tr>\n",
       "      <th>0</th>\n",
       "      <td>{'bytes': b'fLaC\\x00\\x00\\x00\"\\t\\x00\\t\\x00\\x00\\...</td>\n",
       "      <td>S_016415</td>\n",
       "      <td>giant's kettles can also be formed while the s...</td>\n",
       "      <td>German English,Non native speaker</td>\n",
       "      <td>3.7</td>\n",
       "      <td>fourties</td>\n",
       "      <td>male</td>\n",
       "    </tr>\n",
       "    <tr>\n",
       "      <th>1</th>\n",
       "      <td>{'bytes': b'fLaC\\x00\\x00\\x00\"\\t\\x00\\t\\x00\\x00\\...</td>\n",
       "      <td>S_023051</td>\n",
       "      <td>easton high school was closed due to school un...</td>\n",
       "      <td>United States English</td>\n",
       "      <td>3.2</td>\n",
       "      <td>twenties</td>\n",
       "      <td>male</td>\n",
       "    </tr>\n",
       "  </tbody>\n",
       "</table>\n",
       "</div>"
      ],
      "text/plain": [
       "                                               audio speaker_id  \\\n",
       "0  {'bytes': b'fLaC\\x00\\x00\\x00\"\\t\\x00\\t\\x00\\x00\\...   S_016415   \n",
       "1  {'bytes': b'fLaC\\x00\\x00\\x00\"\\t\\x00\\t\\x00\\x00\\...   S_023051   \n",
       "\n",
       "                                          transcript  \\\n",
       "0  giant's kettles can also be formed while the s...   \n",
       "1  easton high school was closed due to school un...   \n",
       "\n",
       "                              accent  duration       age gender  \n",
       "0  German English,Non native speaker       3.7  fourties   male  \n",
       "1              United States English       3.2  twenties   male  "
      ]
     },
     "execution_count": 3,
     "metadata": {},
     "output_type": "execute_result"
    }
   ],
   "source": [
    "data=pd.read_parquet(\"GLOBE//data//train-00006-of-00108.parquet\", engine='pyarrow')\n",
    "data.head(2)"
   ]
  },
  {
   "cell_type": "code",
   "execution_count": 7,
   "metadata": {},
   "outputs": [
    {
     "data": {
      "text/plain": [
       "'000011.flac'"
      ]
     },
     "execution_count": 7,
     "metadata": {},
     "output_type": "execute_result"
    }
   ],
   "source": [
    "data['audio'][0]['path']"
   ]
  },
  {
   "cell_type": "code",
   "execution_count": 4,
   "metadata": {},
   "outputs": [
    {
     "data": {
      "text/plain": [
       "(5298, 7)"
      ]
     },
     "execution_count": 4,
     "metadata": {},
     "output_type": "execute_result"
    }
   ],
   "source": [
    "data.shape"
   ]
  },
  {
   "cell_type": "code",
   "execution_count": 4,
   "metadata": {},
   "outputs": [
    {
     "data": {
      "text/plain": [
       "accent\n",
       "United States English                                                                                                   3892\n",
       "England English                                                                                                          717\n",
       "India and South Asia (India, Pakistan, Sri Lanka)                                                                        201\n",
       "Canadian English                                                                                                         128\n",
       "Australian English                                                                                                       118\n",
       "Hong Kong English                                                                                                         81\n",
       "German English,Non native speaker                                                                                         77\n",
       "Scottish English                                                                                                          24\n",
       "Filipino                                                                                                                  21\n",
       "Australian English,England English                                                                                         5\n",
       "Malaysian English                                                                                                          5\n",
       "Non-native,German Accent                                                                                                   4\n",
       "United States English,southern United States,New Orleans dialect                                                           4\n",
       "Singaporean English                                                                                                        4\n",
       "minor french accent                                                                                                        4\n",
       "Southern African (South Africa, Zimbabwe, Namibia)                                                                         4\n",
       "New Zealand English,Australian English,England English                                                                     3\n",
       "United States English,Pacific Northwest                                                                                    2\n",
       "West Indies and Bermuda (Bahamas, Bermuda, Jamaica, Trinidad),England English,Scottish English,United States English       2\n",
       "Malaysian English,England English                                                                                          2\n",
       "Name: count, dtype: int64"
      ]
     },
     "execution_count": 4,
     "metadata": {},
     "output_type": "execute_result"
    }
   ],
   "source": [
    "data.accent.value_counts()"
   ]
  },
  {
   "cell_type": "code",
   "execution_count": 4,
   "metadata": {},
   "outputs": [],
   "source": [
    "from IPython.display import Audio"
   ]
  },
  {
   "cell_type": "code",
   "execution_count": 5,
   "metadata": {},
   "outputs": [],
   "source": [
    "# Function to play audio\n",
    "def play_audio(audio_path):\n",
    "    return Audio(audio_path,rate=44100,autoplay=True)"
   ]
  },
  {
   "cell_type": "code",
   "execution_count": 6,
   "metadata": {},
   "outputs": [
    {
     "data": {
      "text/plain": [
       "IPython.lib.display.Audio"
      ]
     },
     "execution_count": 6,
     "metadata": {},
     "output_type": "execute_result"
    }
   ],
   "source": [
    "\n",
    "\n",
    "# Example usage: playing the first audio in the dataframe\n",
    "audio_path = data.iloc[0]['audio']\n",
    "type(play_audio(audio_path['bytes']))"
   ]
  },
  {
   "cell_type": "code",
   "execution_count": 8,
   "metadata": {},
   "outputs": [
    {
     "data": {
      "text/plain": [
       "str"
      ]
     },
     "execution_count": 8,
     "metadata": {},
     "output_type": "execute_result"
    }
   ],
   "source": [
    "type(audio_path['path'])"
   ]
  },
  {
   "cell_type": "code",
   "execution_count": 9,
   "metadata": {},
   "outputs": [],
   "source": [
    "import numpy as np"
   ]
  },
  {
   "cell_type": "code",
   "execution_count": 10,
   "metadata": {},
   "outputs": [],
   "source": [
    "import librosa\n",
    "import librosa.display\n",
    "import soundfile as sf\n",
    "import io\n",
    "from tqdm import tqdm\n",
    "import os\n",
    "from concurrent.futures import ProcessPoolExecutor\n",
    "import re"
   ]
  },
  {
   "cell_type": "code",
   "execution_count": 11,
   "metadata": {},
   "outputs": [],
   "source": [
    "import matplotlib.pyplot as plt"
   ]
  },
  {
   "cell_type": "code",
   "execution_count": 12,
   "metadata": {},
   "outputs": [],
   "source": [
    "def audio_to_spectrogram(audio_bytes, sr=22050):\n",
    "    # Load audio data from bytes\n",
    "    audio_data, sample_rate = sf.read(io.BytesIO(audio_bytes), dtype='float32')\n",
    "    \n",
    "    # Generate spectrogram\n",
    "    S = librosa.feature.melspectrogram(y=audio_data, sr=sample_rate, n_mels=128)\n",
    "    S_DB = librosa.power_to_db(S, ref=np.max)\n",
    "    \n",
    "    # Plot spectrogram\n",
    "    plt.figure(figsize=(10, 4))\n",
    "    librosa.display.specshow(S_DB, sr=sample_rate, x_axis='time', y_axis='mel')\n",
    "    plt.colorbar(format='%+2.0f dB')\n",
    "    plt.title('Mel-frequency spectrogram')\n",
    "    plt.tight_layout()\n",
    "    plt.show()"
   ]
  },
  {
   "cell_type": "code",
   "execution_count": 13,
   "metadata": {},
   "outputs": [
    {
     "data": {
      "image/png": "[encoded data removed]",
      "text/plain": [
       "<Figure size 1000x400 with 2 Axes>"
      ]
     },
     "metadata": {},
     "output_type": "display_data"
    }
   ],
   "source": [
    "audio_to_spectrogram(audio_path['bytes'])"
   ]
  },
  {
   "cell_type": "code",
   "execution_count": 14,
   "metadata": {},
   "outputs": [
    {
     "data": {
      "text/plain": [
       "['train-00000-of-00108.parquet',\n",
       " 'train-00001-of-00108.parquet',\n",
       " 'train-00002-of-00108.parquet',\n",
       " 'train-00003-of-00108.parquet',\n",
       " 'train-00004-of-00108.parquet',\n",
       " 'train-00005-of-00108.parquet',\n",
       " 'train-00006-of-00108.parquet',\n",
       " 'train-00007-of-00108.parquet',\n",
       " 'train-00008-of-00108.parquet',\n",
       " 'train-00009-of-00108.parquet',\n",
       " 'train-00010-of-00108.parquet',\n",
       " 'train-00011-of-00108.parquet',\n",
       " 'train-00012-of-00108.parquet',\n",
       " 'train-00013-of-00108.parquet',\n",
       " 'train-00014-of-00108.parquet',\n",
       " 'train-00015-of-00108.parquet',\n",
       " 'train-00016-of-00108.parquet',\n",
       " 'train-00017-of-00108.parquet',\n",
       " 'train-00018-of-00108.parquet',\n",
       " 'train-00019-of-00108.parquet',\n",
       " 'train-00020-of-00108.parquet',\n",
       " 'train-00021-of-00108.parquet',\n",
       " 'train-00022-of-00108.parquet',\n",
       " 'train-00023-of-00108.parquet',\n",
       " 'train-00024-of-00108.parquet',\n",
       " 'train-00025-of-00108.parquet',\n",
       " 'train-00026-of-00108.parquet',\n",
       " 'train-00027-of-00108.parquet',\n",
       " 'train-00028-of-00108.parquet',\n",
       " 'train-00029-of-00108.parquet',\n",
       " 'train-00030-of-00108.parquet',\n",
       " 'train-00031-of-00108.parquet',\n",
       " 'train-00032-of-00108.parquet',\n",
       " 'train-00033-of-00108.parquet',\n",
       " 'train-00034-of-00108.parquet',\n",
       " 'train-00035-of-00108.parquet',\n",
       " 'train-00036-of-00108.parquet',\n",
       " 'train-00037-of-00108.parquet',\n",
       " 'train-00038-of-00108.parquet',\n",
       " 'train-00039-of-00108.parquet',\n",
       " 'train-00040-of-00108.parquet',\n",
       " 'train-00041-of-00108.parquet',\n",
       " 'train-00042-of-00108.parquet',\n",
       " 'train-00043-of-00108.parquet',\n",
       " 'train-00044-of-00108.parquet',\n",
       " 'train-00045-of-00108.parquet',\n",
       " 'train-00046-of-00108.parquet',\n",
       " 'train-00047-of-00108.parquet',\n",
       " 'train-00048-of-00108.parquet',\n",
       " 'train-00049-of-00108.parquet',\n",
       " 'train-00050-of-00108.parquet',\n",
       " 'train-00051-of-00108.parquet',\n",
       " 'train-00052-of-00108.parquet',\n",
       " 'train-00053-of-00108.parquet',\n",
       " 'train-00054-of-00108.parquet',\n",
       " 'train-00055-of-00108.parquet',\n",
       " 'train-00056-of-00108.parquet',\n",
       " 'train-00057-of-00108.parquet',\n",
       " 'train-00058-of-00108.parquet',\n",
       " 'train-00059-of-00108.parquet',\n",
       " 'train-00060-of-00108.parquet',\n",
       " 'train-00061-of-00108.parquet',\n",
       " 'train-00062-of-00108.parquet',\n",
       " 'train-00063-of-00108.parquet',\n",
       " 'train-00064-of-00108.parquet',\n",
       " 'train-00065-of-00108.parquet',\n",
       " 'train-00066-of-00108.parquet',\n",
       " 'train-00067-of-00108.parquet',\n",
       " 'train-00068-of-00108.parquet',\n",
       " 'train-00069-of-00108.parquet',\n",
       " 'train-00070-of-00108.parquet',\n",
       " 'train-00071-of-00108.parquet',\n",
       " 'train-00072-of-00108.parquet',\n",
       " 'train-00073-of-00108.parquet',\n",
       " 'train-00074-of-00108.parquet',\n",
       " 'train-00075-of-00108.parquet',\n",
       " 'train-00076-of-00108.parquet',\n",
       " 'train-00077-of-00108.parquet',\n",
       " 'train-00078-of-00108.parquet',\n",
       " 'train-00079-of-00108.parquet',\n",
       " 'train-00080-of-00108.parquet',\n",
       " 'train-00081-of-00108.parquet',\n",
       " 'train-00082-of-00108.parquet',\n",
       " 'train-00083-of-00108.parquet',\n",
       " 'train-00084-of-00108.parquet',\n",
       " 'train-00085-of-00108.parquet',\n",
       " 'train-00086-of-00108.parquet',\n",
       " 'train-00087-of-00108.parquet',\n",
       " 'train-00088-of-00108.parquet',\n",
       " 'train-00089-of-00108.parquet',\n",
       " 'train-00090-of-00108.parquet',\n",
       " 'train-00091-of-00108.parquet',\n",
       " 'train-00092-of-00108.parquet',\n",
       " 'train-00093-of-00108.parquet',\n",
       " 'train-00094-of-00108.parquet',\n",
       " 'train-00095-of-00108.parquet',\n",
       " 'train-00096-of-00108.parquet',\n",
       " 'train-00097-of-00108.parquet',\n",
       " 'train-00098-of-00108.parquet',\n",
       " 'train-00099-of-00108.parquet',\n",
       " 'train-00100-of-00108.parquet',\n",
       " 'train-00101-of-00108.parquet',\n",
       " 'train-00102-of-00108.parquet',\n",
       " 'train-00103-of-00108.parquet',\n",
       " 'train-00104-of-00108.parquet',\n",
       " 'train-00105-of-00108.parquet',\n",
       " 'train-00106-of-00108.parquet',\n",
       " 'train-00107-of-00108.parquet']"
      ]
     },
     "execution_count": 14,
     "metadata": {},
     "output_type": "execute_result"
    }
   ],
   "source": [
    "os.listdir('GLOBE\\data')"
   ]
  },
  {
   "cell_type": "code",
   "execution_count": 22,
   "metadata": {},
   "outputs": [],
   "source": [
    "def sanitize_folder_name(name):\n",
    "    return re.sub(r'[\\\\/*?:\"<>|]', \"_\", name)"
   ]
  },
  {
   "cell_type": "code",
   "execution_count": 23,
   "metadata": {},
   "outputs": [],
   "source": [
    "def audio_to_melspectrogram(audio_bytes, sr):\n",
    "    try:\n",
    "        audio_data, sample_rate = sf.read(io.BytesIO(audio_bytes), dtype='float32')\n",
    "        mel_spec = librosa.feature.melspectrogram(y=audio_data, sr=sample_rate, n_mels=128)\n",
    "        mel_spec_db = librosa.power_to_db(mel_spec, ref=np.max)\n",
    "        return mel_spec_db\n",
    "    except Exception as e:\n",
    "        print(f\"Error processing audio: {e}\")\n",
    "        return None"
   ]
  },
  {
   "cell_type": "code",
   "execution_count": 24,
   "metadata": {},
   "outputs": [],
   "source": [
    "def save_spectrogram(spectrogram, output_path):\n",
    "    if spectrogram is not None:\n",
    "        os.makedirs(os.path.dirname(output_path), exist_ok=True)  # Ensure directory exists\n",
    "        plt.figure(figsize=(10, 4))\n",
    "        librosa.display.specshow(spectrogram, sr=22050, x_axis=None, y_axis=None)\n",
    "        plt.axis('off')  # Turn off the axis\n",
    "        plt.savefig(output_path, bbox_inches='tight', pad_inches=0)\n",
    "        plt.close()"
   ]
  },
  {
   "cell_type": "code",
   "execution_count": 26,
   "metadata": {},
   "outputs": [],
   "source": [
    "parquet_files_dir = 'GLOBE\\data'\n",
    "parquet_files = [os.path.join(parquet_files_dir, f) for f in os.listdir(parquet_files_dir) if f.endswith('.parquet')]\n",
    "\n",
    "output_base_dir = 'GLOBE\\data\\save_spectrograms'\n",
    "os.makedirs(output_base_dir, exist_ok=True)"
   ]
  },
  {
   "cell_type": "code",
   "execution_count": 27,
   "metadata": {},
   "outputs": [],
   "source": [
    "def process_batch(parquet_batch):\n",
    "    df = pd.concat(parquet_batch, ignore_index=True)\n",
    "    \n",
    "    for index, row in tqdm(df.iterrows(), total=df.shape[0]):\n",
    "        try:\n",
    "            audio_bytes = row['audio']['bytes']\n",
    "            accent = sanitize_folder_name(row['accent'])\n",
    "            speaker_id = row['speaker_id']\n",
    "            output_path = os.path.join(output_base_dir, accent, f\"{speaker_id}_{index}.png\")\n",
    "            mel_spectrogram = audio_to_melspectrogram(audio_bytes, sr=22050)\n",
    "            save_spectrogram(mel_spectrogram, output_path)\n",
    "        except Exception as e:\n",
    "            print(f\"Error processing row {index}: {e}\")"
   ]
  },
  {
   "cell_type": "code",
   "execution_count": 29,
   "metadata": {},
   "outputs": [
    {
     "name": "stderr",
     "output_type": "stream",
     "text": [
      "  6%|▌         | 3024/52980 [13:12<6:09:49,  2.25it/s] "
     ]
    }
   ],
   "source": [
    "batch_size = 10\n",
    "parquet_batches = [parquet_files[i:i + batch_size] for i in range(0, len(parquet_files), batch_size)]\n",
    "\n",
    "for batch in parquet_batches:\n",
    "    parquet_batch = [pd.read_parquet(file) for file in batch]\n",
    "    process_batch(parquet_batch)"
   ]
  },
  {
   "cell_type": "code",
   "execution_count": null,
   "metadata": {},
   "outputs": [],
   "source": []
  }
 ],
 "metadata": {
  "kernelspec": {
   "display_name": ".venv",
   "language": "python",
   "name": "python3"
  },
  "language_info": {
   "codemirror_mode": {
    "name": "ipython",
    "version": 3
   },
   "file_extension": ".py",
   "mimetype": "text/x-python",
   "name": "python",
   "nbconvert_exporter": "python",
   "pygments_lexer": "ipython3",
   "version": "3.8.0"
  }
 },
 "nbformat": 4,
 "nbformat_minor": 2
}
