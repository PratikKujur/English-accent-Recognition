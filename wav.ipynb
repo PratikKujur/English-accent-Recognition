{
 "cells": [
  {
   "cell_type": "code",
   "execution_count": 1,
   "metadata": {},
   "outputs": [],
   "source": [
    "import os\n",
    "import pandas as pd\n",
    "from IPython.lib.display import Audio\n",
    "import soundfile as sf\n",
    "import re"
   ]
  },
  {
   "cell_type": "code",
   "execution_count": 2,
   "metadata": {},
   "outputs": [],
   "source": [
    "def sanitize_path_name(name):\n",
    "    # Replace / and \\ with -\n",
    "    name = re.sub(r'[\\\\/]', '-', name)\n",
    "    # Remove any other special characters not suitable for file names\n",
    "    name = re.sub(r'[<>:\"|?*]', '', name)\n",
    "    # Replace spaces with underscores for better readability (optional)\n",
    "    name = name.replace(' ', '_')\n",
    "    return name"
   ]
  },
  {
   "cell_type": "code",
   "execution_count": 3,
   "metadata": {},
   "outputs": [],
   "source": [
    "parquet_directory = 'GLOBE\\data'\n",
    "output_dir = 'GLOBE\\wavfiles'"
   ]
  },
  {
   "cell_type": "code",
   "execution_count": 4,
   "metadata": {},
   "outputs": [],
   "source": [
    "os.makedirs(output_dir, exist_ok=True)"
   ]
  },
  {
   "cell_type": "code",
   "execution_count": 6,
   "metadata": {},
   "outputs": [
    {
     "name": "stderr",
     "output_type": "stream",
     "text": [
      "e:\\Accent-Dataset\\.venv\\lib\\site-packages\\pydub\\utils.py:198: RuntimeWarning: Couldn't find ffprobe or avprobe - defaulting to ffprobe, but may not work\n",
      "  warn(\"Couldn't find ffprobe or avprobe - defaulting to ffprobe, but may not work\", RuntimeWarning)\n"
     ]
    },
    {
     "ename": "FileNotFoundError",
     "evalue": "[WinError 2] The system cannot find the file specified",
     "output_type": "error",
     "traceback": [
      "\u001b[1;31m---------------------------------------------------------------------------\u001b[0m",
      "\u001b[1;31mFileNotFoundError\u001b[0m                         Traceback (most recent call last)",
      "Cell \u001b[1;32mIn[6], line 12\u001b[0m\n\u001b[0;32m      9\u001b[0m audio_bytes \u001b[38;5;241m=\u001b[39m row[\u001b[38;5;124m'\u001b[39m\u001b[38;5;124maudio\u001b[39m\u001b[38;5;124m'\u001b[39m][\u001b[38;5;124m'\u001b[39m\u001b[38;5;124mbytes\u001b[39m\u001b[38;5;124m'\u001b[39m]\n\u001b[0;32m     11\u001b[0m \u001b[38;5;66;03m# Convert audio bytes to audio segment with 24kHz sample rate\u001b[39;00m\n\u001b[1;32m---> 12\u001b[0m audio \u001b[38;5;241m=\u001b[39m \u001b[43mAudioSegment\u001b[49m\u001b[38;5;241;43m.\u001b[39;49m\u001b[43mfrom_file\u001b[49m\u001b[43m(\u001b[49m\u001b[43mBytesIO\u001b[49m\u001b[43m(\u001b[49m\u001b[43maudio_bytes\u001b[49m\u001b[43m)\u001b[49m\u001b[43m)\u001b[49m\n\u001b[0;32m     13\u001b[0m audio \u001b[38;5;241m=\u001b[39m audio\u001b[38;5;241m.\u001b[39mset_frame_rate(\u001b[38;5;241m24000\u001b[39m)  \u001b[38;5;66;03m# Set sample rate to 24kHz\u001b[39;00m\n\u001b[0;32m     15\u001b[0m \u001b[38;5;66;03m# Sanitize accent name and create accent directory\u001b[39;00m\n",
      "File \u001b[1;32me:\\Accent-Dataset\\.venv\\lib\\site-packages\\pydub\\audio_segment.py:728\u001b[0m, in \u001b[0;36mAudioSegment.from_file\u001b[1;34m(cls, file, format, codec, parameters, start_second, duration, **kwargs)\u001b[0m\n\u001b[0;32m    726\u001b[0m     info \u001b[38;5;241m=\u001b[39m \u001b[38;5;28;01mNone\u001b[39;00m\n\u001b[0;32m    727\u001b[0m \u001b[38;5;28;01melse\u001b[39;00m:\n\u001b[1;32m--> 728\u001b[0m     info \u001b[38;5;241m=\u001b[39m \u001b[43mmediainfo_json\u001b[49m\u001b[43m(\u001b[49m\u001b[43morig_file\u001b[49m\u001b[43m,\u001b[49m\u001b[43m \u001b[49m\u001b[43mread_ahead_limit\u001b[49m\u001b[38;5;241;43m=\u001b[39;49m\u001b[43mread_ahead_limit\u001b[49m\u001b[43m)\u001b[49m\n\u001b[0;32m    729\u001b[0m \u001b[38;5;28;01mif\u001b[39;00m info:\n\u001b[0;32m    730\u001b[0m     audio_streams \u001b[38;5;241m=\u001b[39m [x \u001b[38;5;28;01mfor\u001b[39;00m x \u001b[38;5;129;01min\u001b[39;00m info[\u001b[38;5;124m'\u001b[39m\u001b[38;5;124mstreams\u001b[39m\u001b[38;5;124m'\u001b[39m]\n\u001b[0;32m    731\u001b[0m                      \u001b[38;5;28;01mif\u001b[39;00m x[\u001b[38;5;124m'\u001b[39m\u001b[38;5;124mcodec_type\u001b[39m\u001b[38;5;124m'\u001b[39m] \u001b[38;5;241m==\u001b[39m \u001b[38;5;124m'\u001b[39m\u001b[38;5;124maudio\u001b[39m\u001b[38;5;124m'\u001b[39m]\n",
      "File \u001b[1;32me:\\Accent-Dataset\\.venv\\lib\\site-packages\\pydub\\utils.py:274\u001b[0m, in \u001b[0;36mmediainfo_json\u001b[1;34m(filepath, read_ahead_limit)\u001b[0m\n\u001b[0;32m    271\u001b[0m         file\u001b[38;5;241m.\u001b[39mclose()\n\u001b[0;32m    273\u001b[0m command \u001b[38;5;241m=\u001b[39m [prober, \u001b[38;5;124m'\u001b[39m\u001b[38;5;124m-of\u001b[39m\u001b[38;5;124m'\u001b[39m, \u001b[38;5;124m'\u001b[39m\u001b[38;5;124mjson\u001b[39m\u001b[38;5;124m'\u001b[39m] \u001b[38;5;241m+\u001b[39m command_args\n\u001b[1;32m--> 274\u001b[0m res \u001b[38;5;241m=\u001b[39m \u001b[43mPopen\u001b[49m\u001b[43m(\u001b[49m\u001b[43mcommand\u001b[49m\u001b[43m,\u001b[49m\u001b[43m \u001b[49m\u001b[43mstdin\u001b[49m\u001b[38;5;241;43m=\u001b[39;49m\u001b[43mstdin_parameter\u001b[49m\u001b[43m,\u001b[49m\u001b[43m \u001b[49m\u001b[43mstdout\u001b[49m\u001b[38;5;241;43m=\u001b[39;49m\u001b[43mPIPE\u001b[49m\u001b[43m,\u001b[49m\u001b[43m \u001b[49m\u001b[43mstderr\u001b[49m\u001b[38;5;241;43m=\u001b[39;49m\u001b[43mPIPE\u001b[49m\u001b[43m)\u001b[49m\n\u001b[0;32m    275\u001b[0m output, stderr \u001b[38;5;241m=\u001b[39m res\u001b[38;5;241m.\u001b[39mcommunicate(\u001b[38;5;28minput\u001b[39m\u001b[38;5;241m=\u001b[39mstdin_data)\n\u001b[0;32m    276\u001b[0m output \u001b[38;5;241m=\u001b[39m output\u001b[38;5;241m.\u001b[39mdecode(\u001b[38;5;124m\"\u001b[39m\u001b[38;5;124mutf-8\u001b[39m\u001b[38;5;124m\"\u001b[39m, \u001b[38;5;124m'\u001b[39m\u001b[38;5;124mignore\u001b[39m\u001b[38;5;124m'\u001b[39m)\n",
      "File \u001b[1;32m~\\AppData\\Local\\Programs\\Python\\Python38\\lib\\subprocess.py:854\u001b[0m, in \u001b[0;36mPopen.__init__\u001b[1;34m(self, args, bufsize, executable, stdin, stdout, stderr, preexec_fn, close_fds, shell, cwd, env, universal_newlines, startupinfo, creationflags, restore_signals, start_new_session, pass_fds, encoding, errors, text)\u001b[0m\n\u001b[0;32m    850\u001b[0m         \u001b[38;5;28;01mif\u001b[39;00m \u001b[38;5;28mself\u001b[39m\u001b[38;5;241m.\u001b[39mtext_mode:\n\u001b[0;32m    851\u001b[0m             \u001b[38;5;28mself\u001b[39m\u001b[38;5;241m.\u001b[39mstderr \u001b[38;5;241m=\u001b[39m io\u001b[38;5;241m.\u001b[39mTextIOWrapper(\u001b[38;5;28mself\u001b[39m\u001b[38;5;241m.\u001b[39mstderr,\n\u001b[0;32m    852\u001b[0m                     encoding\u001b[38;5;241m=\u001b[39mencoding, errors\u001b[38;5;241m=\u001b[39merrors)\n\u001b[1;32m--> 854\u001b[0m     \u001b[38;5;28;43mself\u001b[39;49m\u001b[38;5;241;43m.\u001b[39;49m\u001b[43m_execute_child\u001b[49m\u001b[43m(\u001b[49m\u001b[43margs\u001b[49m\u001b[43m,\u001b[49m\u001b[43m \u001b[49m\u001b[43mexecutable\u001b[49m\u001b[43m,\u001b[49m\u001b[43m \u001b[49m\u001b[43mpreexec_fn\u001b[49m\u001b[43m,\u001b[49m\u001b[43m \u001b[49m\u001b[43mclose_fds\u001b[49m\u001b[43m,\u001b[49m\n\u001b[0;32m    855\u001b[0m \u001b[43m                        \u001b[49m\u001b[43mpass_fds\u001b[49m\u001b[43m,\u001b[49m\u001b[43m \u001b[49m\u001b[43mcwd\u001b[49m\u001b[43m,\u001b[49m\u001b[43m \u001b[49m\u001b[43menv\u001b[49m\u001b[43m,\u001b[49m\n\u001b[0;32m    856\u001b[0m \u001b[43m                        \u001b[49m\u001b[43mstartupinfo\u001b[49m\u001b[43m,\u001b[49m\u001b[43m \u001b[49m\u001b[43mcreationflags\u001b[49m\u001b[43m,\u001b[49m\u001b[43m \u001b[49m\u001b[43mshell\u001b[49m\u001b[43m,\u001b[49m\n\u001b[0;32m    857\u001b[0m \u001b[43m                        \u001b[49m\u001b[43mp2cread\u001b[49m\u001b[43m,\u001b[49m\u001b[43m \u001b[49m\u001b[43mp2cwrite\u001b[49m\u001b[43m,\u001b[49m\n\u001b[0;32m    858\u001b[0m \u001b[43m                        \u001b[49m\u001b[43mc2pread\u001b[49m\u001b[43m,\u001b[49m\u001b[43m \u001b[49m\u001b[43mc2pwrite\u001b[49m\u001b[43m,\u001b[49m\n\u001b[0;32m    859\u001b[0m \u001b[43m                        \u001b[49m\u001b[43merrread\u001b[49m\u001b[43m,\u001b[49m\u001b[43m \u001b[49m\u001b[43merrwrite\u001b[49m\u001b[43m,\u001b[49m\n\u001b[0;32m    860\u001b[0m \u001b[43m                        \u001b[49m\u001b[43mrestore_signals\u001b[49m\u001b[43m,\u001b[49m\u001b[43m \u001b[49m\u001b[43mstart_new_session\u001b[49m\u001b[43m)\u001b[49m\n\u001b[0;32m    861\u001b[0m \u001b[38;5;28;01mexcept\u001b[39;00m:\n\u001b[0;32m    862\u001b[0m     \u001b[38;5;66;03m# Cleanup if the child failed starting.\u001b[39;00m\n\u001b[0;32m    863\u001b[0m     \u001b[38;5;28;01mfor\u001b[39;00m f \u001b[38;5;129;01min\u001b[39;00m \u001b[38;5;28mfilter\u001b[39m(\u001b[38;5;28;01mNone\u001b[39;00m, (\u001b[38;5;28mself\u001b[39m\u001b[38;5;241m.\u001b[39mstdin, \u001b[38;5;28mself\u001b[39m\u001b[38;5;241m.\u001b[39mstdout, \u001b[38;5;28mself\u001b[39m\u001b[38;5;241m.\u001b[39mstderr)):\n",
      "File \u001b[1;32m~\\AppData\\Local\\Programs\\Python\\Python38\\lib\\subprocess.py:1307\u001b[0m, in \u001b[0;36mPopen._execute_child\u001b[1;34m(self, args, executable, preexec_fn, close_fds, pass_fds, cwd, env, startupinfo, creationflags, shell, p2cread, p2cwrite, c2pread, c2pwrite, errread, errwrite, unused_restore_signals, unused_start_new_session)\u001b[0m\n\u001b[0;32m   1305\u001b[0m \u001b[38;5;66;03m# Start the process\u001b[39;00m\n\u001b[0;32m   1306\u001b[0m \u001b[38;5;28;01mtry\u001b[39;00m:\n\u001b[1;32m-> 1307\u001b[0m     hp, ht, pid, tid \u001b[38;5;241m=\u001b[39m \u001b[43m_winapi\u001b[49m\u001b[38;5;241;43m.\u001b[39;49m\u001b[43mCreateProcess\u001b[49m\u001b[43m(\u001b[49m\u001b[43mexecutable\u001b[49m\u001b[43m,\u001b[49m\u001b[43m \u001b[49m\u001b[43margs\u001b[49m\u001b[43m,\u001b[49m\n\u001b[0;32m   1308\u001b[0m \u001b[43m                             \u001b[49m\u001b[38;5;66;43;03m# no special security\u001b[39;49;00m\n\u001b[0;32m   1309\u001b[0m \u001b[43m                             \u001b[49m\u001b[38;5;28;43;01mNone\u001b[39;49;00m\u001b[43m,\u001b[49m\u001b[43m \u001b[49m\u001b[38;5;28;43;01mNone\u001b[39;49;00m\u001b[43m,\u001b[49m\n\u001b[0;32m   1310\u001b[0m \u001b[43m                             \u001b[49m\u001b[38;5;28;43mint\u001b[39;49m\u001b[43m(\u001b[49m\u001b[38;5;129;43;01mnot\u001b[39;49;00m\u001b[43m \u001b[49m\u001b[43mclose_fds\u001b[49m\u001b[43m)\u001b[49m\u001b[43m,\u001b[49m\n\u001b[0;32m   1311\u001b[0m \u001b[43m                             \u001b[49m\u001b[43mcreationflags\u001b[49m\u001b[43m,\u001b[49m\n\u001b[0;32m   1312\u001b[0m \u001b[43m                             \u001b[49m\u001b[43menv\u001b[49m\u001b[43m,\u001b[49m\n\u001b[0;32m   1313\u001b[0m \u001b[43m                             \u001b[49m\u001b[43mcwd\u001b[49m\u001b[43m,\u001b[49m\n\u001b[0;32m   1314\u001b[0m \u001b[43m                             \u001b[49m\u001b[43mstartupinfo\u001b[49m\u001b[43m)\u001b[49m\n\u001b[0;32m   1315\u001b[0m \u001b[38;5;28;01mfinally\u001b[39;00m:\n\u001b[0;32m   1316\u001b[0m     \u001b[38;5;66;03m# Child is launched. Close the parent's copy of those pipe\u001b[39;00m\n\u001b[0;32m   1317\u001b[0m     \u001b[38;5;66;03m# handles that only the child should have open.  You need\u001b[39;00m\n\u001b[1;32m   (...)\u001b[0m\n\u001b[0;32m   1320\u001b[0m     \u001b[38;5;66;03m# pipe will not close when the child process exits and the\u001b[39;00m\n\u001b[0;32m   1321\u001b[0m     \u001b[38;5;66;03m# ReadFile will hang.\u001b[39;00m\n\u001b[0;32m   1322\u001b[0m     \u001b[38;5;28mself\u001b[39m\u001b[38;5;241m.\u001b[39m_close_pipe_fds(p2cread, p2cwrite,\n\u001b[0;32m   1323\u001b[0m                          c2pread, c2pwrite,\n\u001b[0;32m   1324\u001b[0m                          errread, errwrite)\n",
      "\u001b[1;31mFileNotFoundError\u001b[0m: [WinError 2] The system cannot find the file specified"
     ]
    }
   ],
   "source": [
    "for parquet_file in os.listdir(parquet_directory):\n",
    "    if parquet_file.endswith('.parquet'):\n",
    "        parquet_path = os.path.join(parquet_directory, parquet_file)\n",
    "        \n",
    "        # Read the parquet file into a DataFrame\n",
    "        try:\n",
    "            df = pd.read_parquet(parquet_path)\n",
    "        except Exception as e:\n",
    "            print(f\"Error reading {parquet_file}: {e}\")\n",
    "            continue\n",
    "        \n",
    "        # Process each row in the DataFrame\n",
    "        for index, row in df.iterrows():\n",
    "            # Extract audio bytes\n",
    "            audio_bytes = row['audio']['bytes']\n",
    "            \n",
    "            # Define and sanitize the accent path\n",
    "            accent = sanitize_path_name(row['accent'])\n",
    "            accent_dir = os.path.join(output_dir, accent)\n",
    "            os.makedirs(accent_dir, exist_ok=True)\n",
    "            \n",
    "            # Define the output file path\n",
    "            output_file_path = os.path.join(accent_dir, f\"audio_{parquet_file.replace('.parquet', '')}_{index}.wav\")\n",
    "            \n",
    "            # Create Audio object and save as .wav file\n",
    "            try:\n",
    "                audio = Audio(audio_bytes)\n",
    "                with open(output_file_path, 'wb') as file:\n",
    "                    file.write(audio.data)\n",
    "                print(f\"Audio saved to {output_file_path}\")\n",
    "            except Exception as e:\n",
    "                print(f\"Error processing audio for file {parquet_file} row {index}: {e}\")\n",
    "\n",
    "print(\"Processing complete.\")"
   ]
  },
  {
   "cell_type": "code",
   "execution_count": 2,
   "metadata": {},
   "outputs": [],
   "source": [
    "base_directory='GLOBE\\wavfiles'"
   ]
  },
  {
   "cell_type": "code",
   "execution_count": 3,
   "metadata": {},
   "outputs": [
    {
     "name": "stdout",
     "output_type": "stream",
     "text": [
      "{'Academic_southern_English,England_English': 497, 'Afrikaans_English': 2, 'American_South_East_Georgia_Dialect': 10, 'Australian_English': 18437, 'Australian_English,Educated_Australian_Accent': 12, 'Australian_English,England_English': 53, 'Australian_English,England_English,Japanese': 19, 'Australian_English,Sydney_-_middle_eastern_seaboard_Australian': 13, 'Austrian': 101, 'A_Savage_Texas_Gentleman_': 20, 'bangladesh,India_and_South_Asia_(India,_Pakistan,_Sri_Lanka)': 12, 'Bangladeshi,Bangladesh_English': 2, 'Bangladeshi_English': 2, 'Brazillian_Accent': 2, 'British': 15, 'British_accent': 35, 'Bulgarian': 2, 'California': 12, 'Canadian_English': 39520, 'Canadian_English,Irish_English': 22, 'Canadian_English,United_States_English': 27, 'Canadian_English,United_States_English,England_English': 17, 'Dutch': 2, 'Dutch_English': 48, 'East_African_Khoja': 14, 'East_Indian': 3, 'england,london,academic': 14, 'England_English': 93295, 'England_English,British': 12, 'England_English,Canadian_English': 223, 'England_English,East_Anglian_English': 17, 'England_English,Educated,non_regional': 17, 'England_English,London_English': 12, 'England_English,New_Zealand_English': 2869, 'England_English,Northern_English': 105, 'England_English,Norwegian': 23, 'England_English,Scottish_English': 14, 'England_English,Southern_England': 12, 'England_English,southern_english,sussex': 107, 'England_English,south_German_-_Swiss_accent': 18, 'England_English,South_London': 12, 'England_English,United_States_English': 89, 'England_English,United_States_English,English_with_Polish_accent,Slavic_English': 10, 'England_English,Welsh_English': 131, 'England_English_with_a_touch_of_Canadian': 17, 'English_north_of_England_': 15, 'English_with_Swiss_german_accent': 22, 'European,German,Foreign,Non-native': 48, 'European_English': 15, 'Filipino': 2686, 'Filipino,United_States_English': 12, 'fluent,ESL,European': 15, 'French': 2, 'french_accent,French_mid_level_accent': 2, 'Georgian_English': 2, 'German': 17, 'German_Accent': 29, 'German_English': 35, 'German_English,England_English': 14, 'German_English,I_am_German_and_speak_English_as_learned_at_school': 20, 'German_English,Non_native_speaker': 7957, 'Hong_Kong_English': 980, 'Hunglish': 2, 'India_and_South_Asia_(India,_Pakistan,_Sri_Lanka)': 10510, 'India_and_South_Asia_(India,_Pakistan,_Sri_Lanka),Canadian_English': 15, 'India_and_South_Asia_(India,_Pakistan,_Sri_Lanka),England_English': 17, 'India_and_South_Asia_(India,_Pakistan,_Sri_Lanka),International_Indian_Accent': 12, 'India_and_South_Asia_(India,_Pakistan,_Sri_Lanka),Singaporean_English': 15, 'India_and_South_Asia_(India,_Pakistan,_Sri_Lanka),try_to_maintain_originality_': 115, 'India_and_South_Asia_(India,_Pakistan,_Sri_Lanka),United_States_English': 12, 'Indonesian': 45, 'Irish_English': 2192, 'Israeli': 2, 'Israeli_English': 2, 'Italian': 2, 'I_was_born_in_England_and_have_lived_in_Australia,_Canada_and_France': 14, 'Japanese_English': 2, 'Javanese,Indonesian_English,Malaysian_English': 12, 'Kenyan_': 2, 'Kenyan_English': 5, 'Kenyan_English_accent': 2, 'Kiwi': 149, 'Latino': 2, 'Latin_America,United_States_English': 17, 'Latin_English': 2, 'little_latino,United_States_English,second_language': 12, 'Liverpool_English,Lancashire_English,England_English': 16, 'Malaysian_English': 442, 'Malaysian_English,England_English': 14, 'mexican_accent': 13, 'Mid-atlantic,England_English,United_States_English': 12, 'Mid-Atlantic_United_States_English,Philadelphia,_Pennsylvania,_United_States_English,United_States_English,Philadelphia_Style_United_States_English': 12, 'Midatlantic,England_English': 14, 'Midwestern_US_English_(United_States),United_States_English': 12, 'Mild_Northern_England_English': 25, 'minor_french_accent': 36, 'Mix_of_american_and_british_accent': 15, 'mostly_American_with_some_British_and_Australian_inflections': 13, 'Nepali': 2, 'New_Zealand_English': 2036, 'New_Zealand_English,Australian_English,England_English': 15, 'New_Zealand_English,England_English': 105, 'Nigerian_English': 2, 'nigeria_english': 21, 'Non-native,German_Accent': 27, 'Northern_Irish': 11859, 'Northern_Irish,culchie': 14, 'Northern_Irish,Norwegian,yorkshire': 16, 'Northumbrian_British_English': 233, 'North_European_English': 4, 'Ontario,Canadian_English': 158, 'polish': 11, 'polish_accent': 2, 'Russian': 2, 'Russian,East_Ukrainian_': 2, 'Scottish_English': 2419, 'serbian,United_States_English': 12, 'Singaporean_English': 226, 'Singaporean_English,England_English': 16, 'Singaporean_English,Malaysian_English': 2, 'Slavic': 52, 'Slavic,East_European,polish': 2, 'Slavic,Russian': 6, 'Southern_African_(South_Africa,_Zimbabwe,_Namibia)': 1135, 'Southern_Californian,United_States_English': 12, 'Southern_drawl': 2, 'southern_United_States,United_States_English': 12, 'South_African_English': 14, 'South_German_accent,Alemannic_German_Accent,German,south-west_German': 25, 'Spanish,Foreign,Non-native': 2, 'Swedish_English': 2, 'Swiss_English': 3, 'Thai': 2, 'Transatlantic_English,United_States_English': 12, 'Transatlantic_English,United_States_English,England_English': 12, 'Transnational_englishes_blend': 22, 'Ukrainian': 2, 'United_States_English': 369122, 'United_States_English,American_Midwest': 12, 'United_States_English,Asian-American_English': 17, 'United_States_English,Californian_Accent': 78, 'United_States_English,Canadian_English': 19, 'United_States_English,Canadian_English,slight_Brooklyn_Accent': 14, 'United_States_English,CARIBBEAN_AND_BRITISH_MIXED_WITH_SOME_NEW_YORK_ACCENTS': 12, 'United_States_English,Central_American_': 12, 'United_States_English,Chicano_English,Valley_Girl_English': 51, 'United_States_English,Cool': 12, 'United_States_English,England_English': 215, 'United_States_English,England_English,India_and_South_Asia_(India,_Pakistan,_Sri_Lanka)': 16, 'United_States_English,England_English,ohio': 39, 'United_States_English,Hmong-American': 12, 'United_States_English,India_and_South_Asia_(India,_Pakistan,_Sri_Lanka)': 12, 'United_States_English,little_bit_classy_little_bit_sassy_and_add_some_city.....thats_me': 14, 'United_States_English,Mid-west_United_States_English': 29, 'United_States_English,midwest': 57, 'United_States_English,Midwestern': 136, 'United_States_English,Midwestern,Minnesotan': 454, 'United_States_English,Midwestern_States_(Michigan)': 69, 'United_States_English,Midwestern_United_States_English': 62, 'United_States_English,Midwest_United_States': 12, 'United_States_English,Mix_of_voices': 12, 'United_States_English,new_england-east_coast': 17, 'United_States_English,Northeastern,Rhode_Island,Massachusetts': 14, 'United_States_English,Pacific_Northwest_': 12, 'United_States_English,pin-pen_merger': 14, 'United_States_English,Pittsburgh_PA': 15, 'United_States_English,plain,southern_draw,west_coast_surfer_dude': 13, 'United_States_English,Slight_lisp': 12, 'United_States_English,Some_time_spent_in_Scotland,_mostly_affecting_inflection,_I_think': 28, 'United_States_English,southern_United_States,New_Orleans_dialect': 585, 'United_States_English,Southwestern_United_States_English': 12, 'United_States_English,South_Texas,Slightly_effeminate,Conversational': 12, 'United_States_English,United_States,_west_coast_English_': 21, 'United_States_English,Upper_Midwestern': 32, 'Unite_States_Midwest,United_States_English': 334, 'Welsh_English': 317, 'West_Indies_and_Bermuda_(Bahamas,_Bermuda,_Jamaica,_Trinidad)': 167, 'West_Indies_and_Bermuda_(Bahamas,_Bermuda,_Jamaica,_Trinidad),England_English,Scottish_English,United_States_English': 12, 'With_heavy_Cantonese_accent': 2}\n"
     ]
    }
   ],
   "source": [
    "accent_counts = {}\n",
    "\n",
    "# Iterate through each folder in the base directory\n",
    "for accent_folder in os.listdir(base_directory):\n",
    "    accent_path = os.path.join(base_directory, accent_folder)\n",
    "    \n",
    "    # Check if it is a directory\n",
    "    if os.path.isdir(accent_path):\n",
    "        # Get the list of .wav files in the folder\n",
    "        wav_files = [file for file in os.listdir(accent_path) if file.endswith('.wav')]\n",
    "        \n",
    "        # Count the number of .wav files\n",
    "        num_files = len(wav_files)\n",
    "        \n",
    "        # Store the count in the dictionary\n",
    "        accent_counts[accent_folder] = num_files\n",
    "\n",
    "# Print the dictionary\n",
    "print(accent_counts)"
   ]
  },
  {
   "cell_type": "code",
   "execution_count": 4,
   "metadata": {},
   "outputs": [
    {
     "name": "stdout",
     "output_type": "stream",
     "text": [
      "572159\n"
     ]
    }
   ],
   "source": [
    "files=0\n",
    "\n",
    "for x in accent_counts.values():\n",
    "    files=files+x\n",
    "\n",
    "print(files)"
   ]
  },
  {
   "cell_type": "code",
   "execution_count": 15,
   "metadata": {},
   "outputs": [],
   "source": [
    "import matplotlib.pyplot as plt"
   ]
  },
  {
   "cell_type": "code",
   "execution_count": 17,
   "metadata": {},
   "outputs": [
    {
     "ename": "TypeError",
     "evalue": "unhashable type: 'dict'",
     "output_type": "error",
     "traceback": [
      "\u001b[1;31m---------------------------------------------------------------------------\u001b[0m",
      "\u001b[1;31mTypeError\u001b[0m                                 Traceback (most recent call last)",
      "Cell \u001b[1;32mIn[17], line 1\u001b[0m\n\u001b[1;32m----> 1\u001b[0m \u001b[43mplt\u001b[49m\u001b[38;5;241;43m.\u001b[39;49m\u001b[43mbar\u001b[49m\u001b[43m(\u001b[49m\u001b[43maccent_counts\u001b[49m\u001b[43m,\u001b[49m\u001b[43mheight\u001b[49m\u001b[38;5;241;43m=\u001b[39;49m\u001b[43maccent_counts\u001b[49m\u001b[38;5;241;43m.\u001b[39;49m\u001b[43mvalues\u001b[49m\u001b[43m(\u001b[49m\u001b[43m)\u001b[49m\u001b[43m,\u001b[49m\u001b[43mwidth\u001b[49m\u001b[38;5;241;43m=\u001b[39;49m\u001b[43maccent_counts\u001b[49m\u001b[38;5;241;43m.\u001b[39;49m\u001b[43mkeys\u001b[49m\u001b[43m)\u001b[49m\n\u001b[0;32m      2\u001b[0m plt\u001b[38;5;241m.\u001b[39mshow()\n",
      "File \u001b[1;32me:\\Accent-Dataset\\.venv\\lib\\site-packages\\matplotlib\\pyplot.py:2439\u001b[0m, in \u001b[0;36mbar\u001b[1;34m(x, height, width, bottom, align, data, **kwargs)\u001b[0m\n\u001b[0;32m   2435\u001b[0m \u001b[38;5;129m@_copy_docstring_and_deprecators\u001b[39m(Axes\u001b[38;5;241m.\u001b[39mbar)\n\u001b[0;32m   2436\u001b[0m \u001b[38;5;28;01mdef\u001b[39;00m \u001b[38;5;21mbar\u001b[39m(\n\u001b[0;32m   2437\u001b[0m         x, height, width\u001b[38;5;241m=\u001b[39m\u001b[38;5;241m0.8\u001b[39m, bottom\u001b[38;5;241m=\u001b[39m\u001b[38;5;28;01mNone\u001b[39;00m, \u001b[38;5;241m*\u001b[39m, align\u001b[38;5;241m=\u001b[39m\u001b[38;5;124m'\u001b[39m\u001b[38;5;124mcenter\u001b[39m\u001b[38;5;124m'\u001b[39m,\n\u001b[0;32m   2438\u001b[0m         data\u001b[38;5;241m=\u001b[39m\u001b[38;5;28;01mNone\u001b[39;00m, \u001b[38;5;241m*\u001b[39m\u001b[38;5;241m*\u001b[39mkwargs):\n\u001b[1;32m-> 2439\u001b[0m     \u001b[38;5;28;01mreturn\u001b[39;00m \u001b[43mgca\u001b[49m\u001b[43m(\u001b[49m\u001b[43m)\u001b[49m\u001b[38;5;241;43m.\u001b[39;49m\u001b[43mbar\u001b[49m\u001b[43m(\u001b[49m\n\u001b[0;32m   2440\u001b[0m \u001b[43m        \u001b[49m\u001b[43mx\u001b[49m\u001b[43m,\u001b[49m\u001b[43m \u001b[49m\u001b[43mheight\u001b[49m\u001b[43m,\u001b[49m\u001b[43m \u001b[49m\u001b[43mwidth\u001b[49m\u001b[38;5;241;43m=\u001b[39;49m\u001b[43mwidth\u001b[49m\u001b[43m,\u001b[49m\u001b[43m \u001b[49m\u001b[43mbottom\u001b[49m\u001b[38;5;241;43m=\u001b[39;49m\u001b[43mbottom\u001b[49m\u001b[43m,\u001b[49m\u001b[43m \u001b[49m\u001b[43malign\u001b[49m\u001b[38;5;241;43m=\u001b[39;49m\u001b[43malign\u001b[49m\u001b[43m,\u001b[49m\n\u001b[0;32m   2441\u001b[0m \u001b[43m        \u001b[49m\u001b[38;5;241;43m*\u001b[39;49m\u001b[38;5;241;43m*\u001b[39;49m\u001b[43m(\u001b[49m\u001b[43m{\u001b[49m\u001b[38;5;124;43m\"\u001b[39;49m\u001b[38;5;124;43mdata\u001b[39;49m\u001b[38;5;124;43m\"\u001b[39;49m\u001b[43m:\u001b[49m\u001b[43m \u001b[49m\u001b[43mdata\u001b[49m\u001b[43m}\u001b[49m\u001b[43m \u001b[49m\u001b[38;5;28;43;01mif\u001b[39;49;00m\u001b[43m \u001b[49m\u001b[43mdata\u001b[49m\u001b[43m \u001b[49m\u001b[38;5;129;43;01mis\u001b[39;49;00m\u001b[43m \u001b[49m\u001b[38;5;129;43;01mnot\u001b[39;49;00m\u001b[43m \u001b[49m\u001b[38;5;28;43;01mNone\u001b[39;49;00m\u001b[43m \u001b[49m\u001b[38;5;28;43;01melse\u001b[39;49;00m\u001b[43m \u001b[49m\u001b[43m{\u001b[49m\u001b[43m}\u001b[49m\u001b[43m)\u001b[49m\u001b[43m,\u001b[49m\u001b[43m \u001b[49m\u001b[38;5;241;43m*\u001b[39;49m\u001b[38;5;241;43m*\u001b[39;49m\u001b[43mkwargs\u001b[49m\u001b[43m)\u001b[49m\n",
      "File \u001b[1;32me:\\Accent-Dataset\\.venv\\lib\\site-packages\\matplotlib\\__init__.py:1474\u001b[0m, in \u001b[0;36m_preprocess_data.<locals>.inner\u001b[1;34m(ax, data, *args, **kwargs)\u001b[0m\n\u001b[0;32m   1471\u001b[0m \u001b[38;5;129m@functools\u001b[39m\u001b[38;5;241m.\u001b[39mwraps(func)\n\u001b[0;32m   1472\u001b[0m \u001b[38;5;28;01mdef\u001b[39;00m \u001b[38;5;21minner\u001b[39m(ax, \u001b[38;5;241m*\u001b[39margs, data\u001b[38;5;241m=\u001b[39m\u001b[38;5;28;01mNone\u001b[39;00m, \u001b[38;5;241m*\u001b[39m\u001b[38;5;241m*\u001b[39mkwargs):\n\u001b[0;32m   1473\u001b[0m     \u001b[38;5;28;01mif\u001b[39;00m data \u001b[38;5;129;01mis\u001b[39;00m \u001b[38;5;28;01mNone\u001b[39;00m:\n\u001b[1;32m-> 1474\u001b[0m         \u001b[38;5;28;01mreturn\u001b[39;00m \u001b[43mfunc\u001b[49m\u001b[43m(\u001b[49m\u001b[43max\u001b[49m\u001b[43m,\u001b[49m\u001b[43m \u001b[49m\u001b[38;5;241;43m*\u001b[39;49m\u001b[38;5;28;43mmap\u001b[39;49m\u001b[43m(\u001b[49m\u001b[43msanitize_sequence\u001b[49m\u001b[43m,\u001b[49m\u001b[43m \u001b[49m\u001b[43margs\u001b[49m\u001b[43m)\u001b[49m\u001b[43m,\u001b[49m\u001b[43m \u001b[49m\u001b[38;5;241;43m*\u001b[39;49m\u001b[38;5;241;43m*\u001b[39;49m\u001b[43mkwargs\u001b[49m\u001b[43m)\u001b[49m\n\u001b[0;32m   1476\u001b[0m     bound \u001b[38;5;241m=\u001b[39m new_sig\u001b[38;5;241m.\u001b[39mbind(ax, \u001b[38;5;241m*\u001b[39margs, \u001b[38;5;241m*\u001b[39m\u001b[38;5;241m*\u001b[39mkwargs)\n\u001b[0;32m   1477\u001b[0m     auto_label \u001b[38;5;241m=\u001b[39m (bound\u001b[38;5;241m.\u001b[39marguments\u001b[38;5;241m.\u001b[39mget(label_namer)\n\u001b[0;32m   1478\u001b[0m                   \u001b[38;5;129;01mor\u001b[39;00m bound\u001b[38;5;241m.\u001b[39mkwargs\u001b[38;5;241m.\u001b[39mget(label_namer))\n",
      "File \u001b[1;32me:\\Accent-Dataset\\.venv\\lib\\site-packages\\matplotlib\\axes\\_axes.py:2384\u001b[0m, in \u001b[0;36mAxes.bar\u001b[1;34m(self, x, height, width, bottom, align, **kwargs)\u001b[0m\n\u001b[0;32m   2381\u001b[0m         x \u001b[38;5;241m=\u001b[39m \u001b[38;5;241m0\u001b[39m\n\u001b[0;32m   2383\u001b[0m \u001b[38;5;28;01mif\u001b[39;00m orientation \u001b[38;5;241m==\u001b[39m \u001b[38;5;124m'\u001b[39m\u001b[38;5;124mvertical\u001b[39m\u001b[38;5;124m'\u001b[39m:\n\u001b[1;32m-> 2384\u001b[0m     \u001b[38;5;28;43mself\u001b[39;49m\u001b[38;5;241;43m.\u001b[39;49m\u001b[43m_process_unit_info\u001b[49m\u001b[43m(\u001b[49m\n\u001b[0;32m   2385\u001b[0m \u001b[43m        \u001b[49m\u001b[43m[\u001b[49m\u001b[43m(\u001b[49m\u001b[38;5;124;43m\"\u001b[39;49m\u001b[38;5;124;43mx\u001b[39;49m\u001b[38;5;124;43m\"\u001b[39;49m\u001b[43m,\u001b[49m\u001b[43m \u001b[49m\u001b[43mx\u001b[49m\u001b[43m)\u001b[49m\u001b[43m,\u001b[49m\u001b[43m \u001b[49m\u001b[43m(\u001b[49m\u001b[38;5;124;43m\"\u001b[39;49m\u001b[38;5;124;43my\u001b[39;49m\u001b[38;5;124;43m\"\u001b[39;49m\u001b[43m,\u001b[49m\u001b[43m \u001b[49m\u001b[43mheight\u001b[49m\u001b[43m)\u001b[49m\u001b[43m]\u001b[49m\u001b[43m,\u001b[49m\u001b[43m \u001b[49m\u001b[43mkwargs\u001b[49m\u001b[43m,\u001b[49m\u001b[43m \u001b[49m\u001b[43mconvert\u001b[49m\u001b[38;5;241;43m=\u001b[39;49m\u001b[38;5;28;43;01mFalse\u001b[39;49;00m\u001b[43m)\u001b[49m\n\u001b[0;32m   2386\u001b[0m     \u001b[38;5;28;01mif\u001b[39;00m log:\n\u001b[0;32m   2387\u001b[0m         \u001b[38;5;28mself\u001b[39m\u001b[38;5;241m.\u001b[39mset_yscale(\u001b[38;5;124m'\u001b[39m\u001b[38;5;124mlog\u001b[39m\u001b[38;5;124m'\u001b[39m, nonpositive\u001b[38;5;241m=\u001b[39m\u001b[38;5;124m'\u001b[39m\u001b[38;5;124mclip\u001b[39m\u001b[38;5;124m'\u001b[39m)\n",
      "File \u001b[1;32me:\\Accent-Dataset\\.venv\\lib\\site-packages\\matplotlib\\axes\\_base.py:2549\u001b[0m, in \u001b[0;36m_AxesBase._process_unit_info\u001b[1;34m(self, datasets, kwargs, convert)\u001b[0m\n\u001b[0;32m   2547\u001b[0m     \u001b[38;5;66;03m# Update from data if axis is already set but no unit is set yet.\u001b[39;00m\n\u001b[0;32m   2548\u001b[0m     \u001b[38;5;28;01mif\u001b[39;00m axis \u001b[38;5;129;01mis\u001b[39;00m \u001b[38;5;129;01mnot\u001b[39;00m \u001b[38;5;28;01mNone\u001b[39;00m \u001b[38;5;129;01mand\u001b[39;00m data \u001b[38;5;129;01mis\u001b[39;00m \u001b[38;5;129;01mnot\u001b[39;00m \u001b[38;5;28;01mNone\u001b[39;00m \u001b[38;5;129;01mand\u001b[39;00m \u001b[38;5;129;01mnot\u001b[39;00m axis\u001b[38;5;241m.\u001b[39mhave_units():\n\u001b[1;32m-> 2549\u001b[0m         \u001b[43maxis\u001b[49m\u001b[38;5;241;43m.\u001b[39;49m\u001b[43mupdate_units\u001b[49m\u001b[43m(\u001b[49m\u001b[43mdata\u001b[49m\u001b[43m)\u001b[49m\n\u001b[0;32m   2550\u001b[0m \u001b[38;5;28;01mfor\u001b[39;00m axis_name, axis \u001b[38;5;129;01min\u001b[39;00m axis_map\u001b[38;5;241m.\u001b[39mitems():\n\u001b[0;32m   2551\u001b[0m     \u001b[38;5;66;03m# Return if no axis is set.\u001b[39;00m\n\u001b[0;32m   2552\u001b[0m     \u001b[38;5;28;01mif\u001b[39;00m axis \u001b[38;5;129;01mis\u001b[39;00m \u001b[38;5;28;01mNone\u001b[39;00m:\n",
      "File \u001b[1;32me:\\Accent-Dataset\\.venv\\lib\\site-packages\\matplotlib\\axis.py:1713\u001b[0m, in \u001b[0;36mAxis.update_units\u001b[1;34m(self, data)\u001b[0m\n\u001b[0;32m   1711\u001b[0m neednew \u001b[38;5;241m=\u001b[39m \u001b[38;5;28mself\u001b[39m\u001b[38;5;241m.\u001b[39mconverter \u001b[38;5;241m!=\u001b[39m converter\n\u001b[0;32m   1712\u001b[0m \u001b[38;5;28mself\u001b[39m\u001b[38;5;241m.\u001b[39mconverter \u001b[38;5;241m=\u001b[39m converter\n\u001b[1;32m-> 1713\u001b[0m default \u001b[38;5;241m=\u001b[39m \u001b[38;5;28;43mself\u001b[39;49m\u001b[38;5;241;43m.\u001b[39;49m\u001b[43mconverter\u001b[49m\u001b[38;5;241;43m.\u001b[39;49m\u001b[43mdefault_units\u001b[49m\u001b[43m(\u001b[49m\u001b[43mdata\u001b[49m\u001b[43m,\u001b[49m\u001b[43m \u001b[49m\u001b[38;5;28;43mself\u001b[39;49m\u001b[43m)\u001b[49m\n\u001b[0;32m   1714\u001b[0m \u001b[38;5;28;01mif\u001b[39;00m default \u001b[38;5;129;01mis\u001b[39;00m \u001b[38;5;129;01mnot\u001b[39;00m \u001b[38;5;28;01mNone\u001b[39;00m \u001b[38;5;129;01mand\u001b[39;00m \u001b[38;5;28mself\u001b[39m\u001b[38;5;241m.\u001b[39munits \u001b[38;5;129;01mis\u001b[39;00m \u001b[38;5;28;01mNone\u001b[39;00m:\n\u001b[0;32m   1715\u001b[0m     \u001b[38;5;28mself\u001b[39m\u001b[38;5;241m.\u001b[39mset_units(default)\n",
      "File \u001b[1;32me:\\Accent-Dataset\\.venv\\lib\\site-packages\\matplotlib\\category.py:105\u001b[0m, in \u001b[0;36mStrCategoryConverter.default_units\u001b[1;34m(data, axis)\u001b[0m\n\u001b[0;32m    103\u001b[0m \u001b[38;5;66;03m# the conversion call stack is default_units -> axis_info -> convert\u001b[39;00m\n\u001b[0;32m    104\u001b[0m \u001b[38;5;28;01mif\u001b[39;00m axis\u001b[38;5;241m.\u001b[39munits \u001b[38;5;129;01mis\u001b[39;00m \u001b[38;5;28;01mNone\u001b[39;00m:\n\u001b[1;32m--> 105\u001b[0m     axis\u001b[38;5;241m.\u001b[39mset_units(\u001b[43mUnitData\u001b[49m\u001b[43m(\u001b[49m\u001b[43mdata\u001b[49m\u001b[43m)\u001b[49m)\n\u001b[0;32m    106\u001b[0m \u001b[38;5;28;01melse\u001b[39;00m:\n\u001b[0;32m    107\u001b[0m     axis\u001b[38;5;241m.\u001b[39munits\u001b[38;5;241m.\u001b[39mupdate(data)\n",
      "File \u001b[1;32me:\\Accent-Dataset\\.venv\\lib\\site-packages\\matplotlib\\category.py:181\u001b[0m, in \u001b[0;36mUnitData.__init__\u001b[1;34m(self, data)\u001b[0m\n\u001b[0;32m    179\u001b[0m \u001b[38;5;28mself\u001b[39m\u001b[38;5;241m.\u001b[39m_counter \u001b[38;5;241m=\u001b[39m itertools\u001b[38;5;241m.\u001b[39mcount()\n\u001b[0;32m    180\u001b[0m \u001b[38;5;28;01mif\u001b[39;00m data \u001b[38;5;129;01mis\u001b[39;00m \u001b[38;5;129;01mnot\u001b[39;00m \u001b[38;5;28;01mNone\u001b[39;00m:\n\u001b[1;32m--> 181\u001b[0m     \u001b[38;5;28;43mself\u001b[39;49m\u001b[38;5;241;43m.\u001b[39;49m\u001b[43mupdate\u001b[49m\u001b[43m(\u001b[49m\u001b[43mdata\u001b[49m\u001b[43m)\u001b[49m\n",
      "File \u001b[1;32me:\\Accent-Dataset\\.venv\\lib\\site-packages\\matplotlib\\category.py:214\u001b[0m, in \u001b[0;36mUnitData.update\u001b[1;34m(self, data)\u001b[0m\n\u001b[0;32m    212\u001b[0m \u001b[38;5;66;03m# check if convertible to number:\u001b[39;00m\n\u001b[0;32m    213\u001b[0m convertible \u001b[38;5;241m=\u001b[39m \u001b[38;5;28;01mTrue\u001b[39;00m\n\u001b[1;32m--> 214\u001b[0m \u001b[38;5;28;01mfor\u001b[39;00m val \u001b[38;5;129;01min\u001b[39;00m \u001b[43mOrderedDict\u001b[49m\u001b[38;5;241;43m.\u001b[39;49m\u001b[43mfromkeys\u001b[49m\u001b[43m(\u001b[49m\u001b[43mdata\u001b[49m\u001b[43m)\u001b[49m:\n\u001b[0;32m    215\u001b[0m     \u001b[38;5;66;03m# OrderedDict just iterates over unique values in data.\u001b[39;00m\n\u001b[0;32m    216\u001b[0m     _api\u001b[38;5;241m.\u001b[39mcheck_isinstance((\u001b[38;5;28mstr\u001b[39m, \u001b[38;5;28mbytes\u001b[39m), value\u001b[38;5;241m=\u001b[39mval)\n\u001b[0;32m    217\u001b[0m     \u001b[38;5;28;01mif\u001b[39;00m convertible:\n\u001b[0;32m    218\u001b[0m         \u001b[38;5;66;03m# this will only be called so long as convertible is True.\u001b[39;00m\n",
      "\u001b[1;31mTypeError\u001b[0m: unhashable type: 'dict'"
     ]
    },
    {
     "data": {
      "image/png": "[encoded data removed]",
      "text/plain": [
       "<Figure size 640x480 with 1 Axes>"
      ]
     },
     "metadata": {},
     "output_type": "display_data"
    }
   ],
   "source": [
    "plt.bar(accent_counts,height=accent_counts.values(),width=accent_counts.keys)\n",
    "plt.show()"
   ]
  },
  {
   "cell_type": "code",
   "execution_count": 13,
   "metadata": {},
   "outputs": [
    {
     "data": {
      "text/plain": [
       "['Academic_southern_English,England_English',\n",
       " 'Afrikaans_English',\n",
       " 'American_South_East_Georgia_Dialect',\n",
       " 'Australian_English',\n",
       " 'Australian_English,Educated_Australian_Accent',\n",
       " 'Australian_English,England_English',\n",
       " 'Australian_English,England_English,Japanese',\n",
       " 'Australian_English,Sydney_-_middle_eastern_seaboard_Australian',\n",
       " 'Austrian',\n",
       " 'A_Savage_Texas_Gentleman_',\n",
       " 'bangladesh,India_and_South_Asia_(India,_Pakistan,_Sri_Lanka)',\n",
       " 'Bangladeshi,Bangladesh_English',\n",
       " 'Bangladeshi_English',\n",
       " 'Brazillian_Accent',\n",
       " 'British',\n",
       " 'British_accent',\n",
       " 'Bulgarian',\n",
       " 'California',\n",
       " 'Canadian_English',\n",
       " 'Canadian_English,Irish_English',\n",
       " 'Canadian_English,United_States_English',\n",
       " 'Canadian_English,United_States_English,England_English',\n",
       " 'Dutch',\n",
       " 'Dutch_English',\n",
       " 'East_African_Khoja',\n",
       " 'East_Indian',\n",
       " 'england,london,academic',\n",
       " 'England_English',\n",
       " 'England_English,British',\n",
       " 'England_English,Canadian_English',\n",
       " 'England_English,East_Anglian_English',\n",
       " 'England_English,Educated,non_regional',\n",
       " 'England_English,London_English',\n",
       " 'England_English,New_Zealand_English',\n",
       " 'England_English,Northern_English',\n",
       " 'England_English,Norwegian',\n",
       " 'England_English,Scottish_English',\n",
       " 'England_English,Southern_England',\n",
       " 'England_English,southern_english,sussex',\n",
       " 'England_English,south_German_-_Swiss_accent',\n",
       " 'England_English,South_London',\n",
       " 'England_English,United_States_English',\n",
       " 'England_English,United_States_English,English_with_Polish_accent,Slavic_English',\n",
       " 'England_English,Welsh_English',\n",
       " 'England_English_with_a_touch_of_Canadian',\n",
       " 'English_north_of_England_',\n",
       " 'English_with_Swiss_german_accent',\n",
       " 'European,German,Foreign,Non-native',\n",
       " 'European_English',\n",
       " 'Filipino',\n",
       " 'Filipino,United_States_English',\n",
       " 'fluent,ESL,European',\n",
       " 'French',\n",
       " 'french_accent,French_mid_level_accent',\n",
       " 'Georgian_English',\n",
       " 'German',\n",
       " 'German_Accent',\n",
       " 'German_English',\n",
       " 'German_English,England_English',\n",
       " 'German_English,I_am_German_and_speak_English_as_learned_at_school',\n",
       " 'German_English,Non_native_speaker',\n",
       " 'Hong_Kong_English',\n",
       " 'Hunglish',\n",
       " 'India_and_South_Asia_(India,_Pakistan,_Sri_Lanka)',\n",
       " 'India_and_South_Asia_(India,_Pakistan,_Sri_Lanka),Canadian_English',\n",
       " 'India_and_South_Asia_(India,_Pakistan,_Sri_Lanka),England_English',\n",
       " 'India_and_South_Asia_(India,_Pakistan,_Sri_Lanka),International_Indian_Accent',\n",
       " 'India_and_South_Asia_(India,_Pakistan,_Sri_Lanka),Singaporean_English',\n",
       " 'India_and_South_Asia_(India,_Pakistan,_Sri_Lanka),try_to_maintain_originality_',\n",
       " 'India_and_South_Asia_(India,_Pakistan,_Sri_Lanka),United_States_English',\n",
       " 'Indonesian',\n",
       " 'Irish_English',\n",
       " 'Israeli',\n",
       " 'Israeli_English',\n",
       " 'Italian',\n",
       " 'I_was_born_in_England_and_have_lived_in_Australia,_Canada_and_France',\n",
       " 'Japanese_English',\n",
       " 'Javanese,Indonesian_English,Malaysian_English',\n",
       " 'Kenyan_',\n",
       " 'Kenyan_English',\n",
       " 'Kenyan_English_accent',\n",
       " 'Kiwi',\n",
       " 'Latino',\n",
       " 'Latin_America,United_States_English',\n",
       " 'Latin_English',\n",
       " 'little_latino,United_States_English,second_language',\n",
       " 'Liverpool_English,Lancashire_English,England_English',\n",
       " 'Malaysian_English',\n",
       " 'Malaysian_English,England_English',\n",
       " 'mexican_accent',\n",
       " 'Mid-atlantic,England_English,United_States_English',\n",
       " 'Mid-Atlantic_United_States_English,Philadelphia,_Pennsylvania,_United_States_English,United_States_English,Philadelphia_Style_United_States_English',\n",
       " 'Midatlantic,England_English',\n",
       " 'Midwestern_US_English_(United_States),United_States_English',\n",
       " 'Mild_Northern_England_English',\n",
       " 'minor_french_accent',\n",
       " 'Mix_of_american_and_british_accent',\n",
       " 'mostly_American_with_some_British_and_Australian_inflections',\n",
       " 'Nepali',\n",
       " 'New_Zealand_English',\n",
       " 'New_Zealand_English,Australian_English,England_English',\n",
       " 'New_Zealand_English,England_English',\n",
       " 'Nigerian_English',\n",
       " 'nigeria_english',\n",
       " 'Non-native,German_Accent',\n",
       " 'Northern_Irish',\n",
       " 'Northern_Irish,culchie',\n",
       " 'Northern_Irish,Norwegian,yorkshire',\n",
       " 'Northumbrian_British_English',\n",
       " 'North_European_English',\n",
       " 'Ontario,Canadian_English',\n",
       " 'polish',\n",
       " 'polish_accent',\n",
       " 'Russian',\n",
       " 'Russian,East_Ukrainian_',\n",
       " 'Scottish_English',\n",
       " 'serbian,United_States_English',\n",
       " 'Singaporean_English',\n",
       " 'Singaporean_English,England_English',\n",
       " 'Singaporean_English,Malaysian_English',\n",
       " 'Slavic',\n",
       " 'Slavic,East_European,polish',\n",
       " 'Slavic,Russian',\n",
       " 'Southern_African_(South_Africa,_Zimbabwe,_Namibia)',\n",
       " 'Southern_Californian,United_States_English',\n",
       " 'Southern_drawl',\n",
       " 'southern_United_States,United_States_English',\n",
       " 'South_African_English',\n",
       " 'South_German_accent,Alemannic_German_Accent,German,south-west_German',\n",
       " 'Spanish,Foreign,Non-native',\n",
       " 'Swedish_English',\n",
       " 'Swiss_English',\n",
       " 'Thai',\n",
       " 'Transatlantic_English,United_States_English',\n",
       " 'Transatlantic_English,United_States_English,England_English',\n",
       " 'Transnational_englishes_blend',\n",
       " 'Ukrainian',\n",
       " 'United_States_English',\n",
       " 'United_States_English,American_Midwest',\n",
       " 'United_States_English,Asian-American_English',\n",
       " 'United_States_English,Californian_Accent',\n",
       " 'United_States_English,Canadian_English',\n",
       " 'United_States_English,Canadian_English,slight_Brooklyn_Accent',\n",
       " 'United_States_English,CARIBBEAN_AND_BRITISH_MIXED_WITH_SOME_NEW_YORK_ACCENTS',\n",
       " 'United_States_English,Central_American_',\n",
       " 'United_States_English,Chicano_English,Valley_Girl_English',\n",
       " 'United_States_English,Cool',\n",
       " 'United_States_English,England_English',\n",
       " 'United_States_English,England_English,India_and_South_Asia_(India,_Pakistan,_Sri_Lanka)',\n",
       " 'United_States_English,England_English,ohio',\n",
       " 'United_States_English,Hmong-American',\n",
       " 'United_States_English,India_and_South_Asia_(India,_Pakistan,_Sri_Lanka)',\n",
       " 'United_States_English,little_bit_classy_little_bit_sassy_and_add_some_city.....thats_me',\n",
       " 'United_States_English,Mid-west_United_States_English',\n",
       " 'United_States_English,midwest',\n",
       " 'United_States_English,Midwestern',\n",
       " 'United_States_English,Midwestern,Minnesotan',\n",
       " 'United_States_English,Midwestern_States_(Michigan)',\n",
       " 'United_States_English,Midwestern_United_States_English',\n",
       " 'United_States_English,Midwest_United_States',\n",
       " 'United_States_English,Mix_of_voices',\n",
       " 'United_States_English,new_england-east_coast',\n",
       " 'United_States_English,Northeastern,Rhode_Island,Massachusetts',\n",
       " 'United_States_English,Pacific_Northwest_',\n",
       " 'United_States_English,pin-pen_merger',\n",
       " 'United_States_English,Pittsburgh_PA',\n",
       " 'United_States_English,plain,southern_draw,west_coast_surfer_dude',\n",
       " 'United_States_English,Slight_lisp',\n",
       " 'United_States_English,Some_time_spent_in_Scotland,_mostly_affecting_inflection,_I_think',\n",
       " 'United_States_English,southern_United_States,New_Orleans_dialect',\n",
       " 'United_States_English,Southwestern_United_States_English',\n",
       " 'United_States_English,South_Texas,Slightly_effeminate,Conversational',\n",
       " 'United_States_English,United_States,_west_coast_English_',\n",
       " 'United_States_English,Upper_Midwestern',\n",
       " 'Unite_States_Midwest,United_States_English',\n",
       " 'Welsh_English',\n",
       " 'West_Indies_and_Bermuda_(Bahamas,_Bermuda,_Jamaica,_Trinidad)',\n",
       " 'West_Indies_and_Bermuda_(Bahamas,_Bermuda,_Jamaica,_Trinidad),England_English,Scottish_English,United_States_English',\n",
       " 'With_heavy_Cantonese_accent']"
      ]
     },
     "execution_count": 13,
     "metadata": {},
     "output_type": "execute_result"
    }
   ],
   "source": [
    "accent_names=list((accent_counts.keys()))\n",
    "accent_names"
   ]
  },
  {
   "cell_type": "code",
   "execution_count": 19,
   "metadata": {},
   "outputs": [
    {
     "data": {
      "text/plain": [
       "[497,\n",
       " 2,\n",
       " 10,\n",
       " 18437,\n",
       " 12,\n",
       " 53,\n",
       " 19,\n",
       " 13,\n",
       " 101,\n",
       " 20,\n",
       " 12,\n",
       " 2,\n",
       " 2,\n",
       " 2,\n",
       " 15,\n",
       " 35,\n",
       " 2,\n",
       " 12,\n",
       " 39520,\n",
       " 22,\n",
       " 27,\n",
       " 17,\n",
       " 2,\n",
       " 48,\n",
       " 14,\n",
       " 3,\n",
       " 14,\n",
       " 93295,\n",
       " 12,\n",
       " 223,\n",
       " 17,\n",
       " 17,\n",
       " 12,\n",
       " 2869,\n",
       " 105,\n",
       " 23,\n",
       " 14,\n",
       " 12,\n",
       " 107,\n",
       " 18,\n",
       " 12,\n",
       " 89,\n",
       " 10,\n",
       " 131,\n",
       " 17,\n",
       " 15,\n",
       " 22,\n",
       " 48,\n",
       " 15,\n",
       " 2686,\n",
       " 12,\n",
       " 15,\n",
       " 2,\n",
       " 2,\n",
       " 2,\n",
       " 17,\n",
       " 29,\n",
       " 35,\n",
       " 14,\n",
       " 20,\n",
       " 7957,\n",
       " 980,\n",
       " 2,\n",
       " 10510,\n",
       " 15,\n",
       " 17,\n",
       " 12,\n",
       " 15,\n",
       " 115,\n",
       " 12,\n",
       " 45,\n",
       " 2192,\n",
       " 2,\n",
       " 2,\n",
       " 2,\n",
       " 14,\n",
       " 2,\n",
       " 12,\n",
       " 2,\n",
       " 5,\n",
       " 2,\n",
       " 149,\n",
       " 2,\n",
       " 17,\n",
       " 2,\n",
       " 12,\n",
       " 16,\n",
       " 442,\n",
       " 14,\n",
       " 13,\n",
       " 12,\n",
       " 12,\n",
       " 14,\n",
       " 12,\n",
       " 25,\n",
       " 36,\n",
       " 15,\n",
       " 13,\n",
       " 2,\n",
       " 2036,\n",
       " 15,\n",
       " 105,\n",
       " 2,\n",
       " 21,\n",
       " 27,\n",
       " 11859,\n",
       " 14,\n",
       " 16,\n",
       " 233,\n",
       " 4,\n",
       " 158,\n",
       " 11,\n",
       " 2,\n",
       " 2,\n",
       " 2,\n",
       " 2419,\n",
       " 12,\n",
       " 226,\n",
       " 16,\n",
       " 2,\n",
       " 52,\n",
       " 2,\n",
       " 6,\n",
       " 1135,\n",
       " 12,\n",
       " 2,\n",
       " 12,\n",
       " 14,\n",
       " 25,\n",
       " 2,\n",
       " 2,\n",
       " 3,\n",
       " 2,\n",
       " 12,\n",
       " 12,\n",
       " 22,\n",
       " 2,\n",
       " 369122,\n",
       " 12,\n",
       " 17,\n",
       " 78,\n",
       " 19,\n",
       " 14,\n",
       " 12,\n",
       " 12,\n",
       " 51,\n",
       " 12,\n",
       " 215,\n",
       " 16,\n",
       " 39,\n",
       " 12,\n",
       " 12,\n",
       " 14,\n",
       " 29,\n",
       " 57,\n",
       " 136,\n",
       " 454,\n",
       " 69,\n",
       " 62,\n",
       " 12,\n",
       " 12,\n",
       " 17,\n",
       " 14,\n",
       " 12,\n",
       " 14,\n",
       " 15,\n",
       " 13,\n",
       " 12,\n",
       " 28,\n",
       " 585,\n",
       " 12,\n",
       " 12,\n",
       " 21,\n",
       " 32,\n",
       " 334,\n",
       " 317,\n",
       " 167,\n",
       " 12,\n",
       " 2]"
      ]
     },
     "execution_count": 19,
     "metadata": {},
     "output_type": "execute_result"
    }
   ],
   "source": [
    "accent_value=list((accent_counts.values()))\n",
    "accent_value"
   ]
  },
  {
   "cell_type": "code",
   "execution_count": 20,
   "metadata": {},
   "outputs": [
    {
     "ename": "TypeError",
     "evalue": "unhashable type: 'dict'",
     "output_type": "error",
     "traceback": [
      "\u001b[1;31m---------------------------------------------------------------------------\u001b[0m",
      "\u001b[1;31mTypeError\u001b[0m                                 Traceback (most recent call last)",
      "Cell \u001b[1;32mIn[20], line 1\u001b[0m\n\u001b[1;32m----> 1\u001b[0m \u001b[43mplt\u001b[49m\u001b[38;5;241;43m.\u001b[39;49m\u001b[43mbar\u001b[49m\u001b[43m(\u001b[49m\u001b[43maccent_counts\u001b[49m\u001b[43m,\u001b[49m\u001b[43mheight\u001b[49m\u001b[38;5;241;43m=\u001b[39;49m\u001b[43maccent_value\u001b[49m\u001b[43m,\u001b[49m\u001b[43mwidth\u001b[49m\u001b[38;5;241;43m=\u001b[39;49m\u001b[43maccent_names\u001b[49m\u001b[43m)\u001b[49m\n\u001b[0;32m      2\u001b[0m plt\u001b[38;5;241m.\u001b[39mshow()\n",
      "File \u001b[1;32me:\\Accent-Dataset\\.venv\\lib\\site-packages\\matplotlib\\pyplot.py:2439\u001b[0m, in \u001b[0;36mbar\u001b[1;34m(x, height, width, bottom, align, data, **kwargs)\u001b[0m\n\u001b[0;32m   2435\u001b[0m \u001b[38;5;129m@_copy_docstring_and_deprecators\u001b[39m(Axes\u001b[38;5;241m.\u001b[39mbar)\n\u001b[0;32m   2436\u001b[0m \u001b[38;5;28;01mdef\u001b[39;00m \u001b[38;5;21mbar\u001b[39m(\n\u001b[0;32m   2437\u001b[0m         x, height, width\u001b[38;5;241m=\u001b[39m\u001b[38;5;241m0.8\u001b[39m, bottom\u001b[38;5;241m=\u001b[39m\u001b[38;5;28;01mNone\u001b[39;00m, \u001b[38;5;241m*\u001b[39m, align\u001b[38;5;241m=\u001b[39m\u001b[38;5;124m'\u001b[39m\u001b[38;5;124mcenter\u001b[39m\u001b[38;5;124m'\u001b[39m,\n\u001b[0;32m   2438\u001b[0m         data\u001b[38;5;241m=\u001b[39m\u001b[38;5;28;01mNone\u001b[39;00m, \u001b[38;5;241m*\u001b[39m\u001b[38;5;241m*\u001b[39mkwargs):\n\u001b[1;32m-> 2439\u001b[0m     \u001b[38;5;28;01mreturn\u001b[39;00m \u001b[43mgca\u001b[49m\u001b[43m(\u001b[49m\u001b[43m)\u001b[49m\u001b[38;5;241;43m.\u001b[39;49m\u001b[43mbar\u001b[49m\u001b[43m(\u001b[49m\n\u001b[0;32m   2440\u001b[0m \u001b[43m        \u001b[49m\u001b[43mx\u001b[49m\u001b[43m,\u001b[49m\u001b[43m \u001b[49m\u001b[43mheight\u001b[49m\u001b[43m,\u001b[49m\u001b[43m \u001b[49m\u001b[43mwidth\u001b[49m\u001b[38;5;241;43m=\u001b[39;49m\u001b[43mwidth\u001b[49m\u001b[43m,\u001b[49m\u001b[43m \u001b[49m\u001b[43mbottom\u001b[49m\u001b[38;5;241;43m=\u001b[39;49m\u001b[43mbottom\u001b[49m\u001b[43m,\u001b[49m\u001b[43m \u001b[49m\u001b[43malign\u001b[49m\u001b[38;5;241;43m=\u001b[39;49m\u001b[43malign\u001b[49m\u001b[43m,\u001b[49m\n\u001b[0;32m   2441\u001b[0m \u001b[43m        \u001b[49m\u001b[38;5;241;43m*\u001b[39;49m\u001b[38;5;241;43m*\u001b[39;49m\u001b[43m(\u001b[49m\u001b[43m{\u001b[49m\u001b[38;5;124;43m\"\u001b[39;49m\u001b[38;5;124;43mdata\u001b[39;49m\u001b[38;5;124;43m\"\u001b[39;49m\u001b[43m:\u001b[49m\u001b[43m \u001b[49m\u001b[43mdata\u001b[49m\u001b[43m}\u001b[49m\u001b[43m \u001b[49m\u001b[38;5;28;43;01mif\u001b[39;49;00m\u001b[43m \u001b[49m\u001b[43mdata\u001b[49m\u001b[43m \u001b[49m\u001b[38;5;129;43;01mis\u001b[39;49;00m\u001b[43m \u001b[49m\u001b[38;5;129;43;01mnot\u001b[39;49;00m\u001b[43m \u001b[49m\u001b[38;5;28;43;01mNone\u001b[39;49;00m\u001b[43m \u001b[49m\u001b[38;5;28;43;01melse\u001b[39;49;00m\u001b[43m \u001b[49m\u001b[43m{\u001b[49m\u001b[43m}\u001b[49m\u001b[43m)\u001b[49m\u001b[43m,\u001b[49m\u001b[43m \u001b[49m\u001b[38;5;241;43m*\u001b[39;49m\u001b[38;5;241;43m*\u001b[39;49m\u001b[43mkwargs\u001b[49m\u001b[43m)\u001b[49m\n",
      "File \u001b[1;32me:\\Accent-Dataset\\.venv\\lib\\site-packages\\matplotlib\\__init__.py:1474\u001b[0m, in \u001b[0;36m_preprocess_data.<locals>.inner\u001b[1;34m(ax, data, *args, **kwargs)\u001b[0m\n\u001b[0;32m   1471\u001b[0m \u001b[38;5;129m@functools\u001b[39m\u001b[38;5;241m.\u001b[39mwraps(func)\n\u001b[0;32m   1472\u001b[0m \u001b[38;5;28;01mdef\u001b[39;00m \u001b[38;5;21minner\u001b[39m(ax, \u001b[38;5;241m*\u001b[39margs, data\u001b[38;5;241m=\u001b[39m\u001b[38;5;28;01mNone\u001b[39;00m, \u001b[38;5;241m*\u001b[39m\u001b[38;5;241m*\u001b[39mkwargs):\n\u001b[0;32m   1473\u001b[0m     \u001b[38;5;28;01mif\u001b[39;00m data \u001b[38;5;129;01mis\u001b[39;00m \u001b[38;5;28;01mNone\u001b[39;00m:\n\u001b[1;32m-> 1474\u001b[0m         \u001b[38;5;28;01mreturn\u001b[39;00m \u001b[43mfunc\u001b[49m\u001b[43m(\u001b[49m\u001b[43max\u001b[49m\u001b[43m,\u001b[49m\u001b[43m \u001b[49m\u001b[38;5;241;43m*\u001b[39;49m\u001b[38;5;28;43mmap\u001b[39;49m\u001b[43m(\u001b[49m\u001b[43msanitize_sequence\u001b[49m\u001b[43m,\u001b[49m\u001b[43m \u001b[49m\u001b[43margs\u001b[49m\u001b[43m)\u001b[49m\u001b[43m,\u001b[49m\u001b[43m \u001b[49m\u001b[38;5;241;43m*\u001b[39;49m\u001b[38;5;241;43m*\u001b[39;49m\u001b[43mkwargs\u001b[49m\u001b[43m)\u001b[49m\n\u001b[0;32m   1476\u001b[0m     bound \u001b[38;5;241m=\u001b[39m new_sig\u001b[38;5;241m.\u001b[39mbind(ax, \u001b[38;5;241m*\u001b[39margs, \u001b[38;5;241m*\u001b[39m\u001b[38;5;241m*\u001b[39mkwargs)\n\u001b[0;32m   1477\u001b[0m     auto_label \u001b[38;5;241m=\u001b[39m (bound\u001b[38;5;241m.\u001b[39marguments\u001b[38;5;241m.\u001b[39mget(label_namer)\n\u001b[0;32m   1478\u001b[0m                   \u001b[38;5;129;01mor\u001b[39;00m bound\u001b[38;5;241m.\u001b[39mkwargs\u001b[38;5;241m.\u001b[39mget(label_namer))\n",
      "File \u001b[1;32me:\\Accent-Dataset\\.venv\\lib\\site-packages\\matplotlib\\axes\\_axes.py:2384\u001b[0m, in \u001b[0;36mAxes.bar\u001b[1;34m(self, x, height, width, bottom, align, **kwargs)\u001b[0m\n\u001b[0;32m   2381\u001b[0m         x \u001b[38;5;241m=\u001b[39m \u001b[38;5;241m0\u001b[39m\n\u001b[0;32m   2383\u001b[0m \u001b[38;5;28;01mif\u001b[39;00m orientation \u001b[38;5;241m==\u001b[39m \u001b[38;5;124m'\u001b[39m\u001b[38;5;124mvertical\u001b[39m\u001b[38;5;124m'\u001b[39m:\n\u001b[1;32m-> 2384\u001b[0m     \u001b[38;5;28;43mself\u001b[39;49m\u001b[38;5;241;43m.\u001b[39;49m\u001b[43m_process_unit_info\u001b[49m\u001b[43m(\u001b[49m\n\u001b[0;32m   2385\u001b[0m \u001b[43m        \u001b[49m\u001b[43m[\u001b[49m\u001b[43m(\u001b[49m\u001b[38;5;124;43m\"\u001b[39;49m\u001b[38;5;124;43mx\u001b[39;49m\u001b[38;5;124;43m\"\u001b[39;49m\u001b[43m,\u001b[49m\u001b[43m \u001b[49m\u001b[43mx\u001b[49m\u001b[43m)\u001b[49m\u001b[43m,\u001b[49m\u001b[43m \u001b[49m\u001b[43m(\u001b[49m\u001b[38;5;124;43m\"\u001b[39;49m\u001b[38;5;124;43my\u001b[39;49m\u001b[38;5;124;43m\"\u001b[39;49m\u001b[43m,\u001b[49m\u001b[43m \u001b[49m\u001b[43mheight\u001b[49m\u001b[43m)\u001b[49m\u001b[43m]\u001b[49m\u001b[43m,\u001b[49m\u001b[43m \u001b[49m\u001b[43mkwargs\u001b[49m\u001b[43m,\u001b[49m\u001b[43m \u001b[49m\u001b[43mconvert\u001b[49m\u001b[38;5;241;43m=\u001b[39;49m\u001b[38;5;28;43;01mFalse\u001b[39;49;00m\u001b[43m)\u001b[49m\n\u001b[0;32m   2386\u001b[0m     \u001b[38;5;28;01mif\u001b[39;00m log:\n\u001b[0;32m   2387\u001b[0m         \u001b[38;5;28mself\u001b[39m\u001b[38;5;241m.\u001b[39mset_yscale(\u001b[38;5;124m'\u001b[39m\u001b[38;5;124mlog\u001b[39m\u001b[38;5;124m'\u001b[39m, nonpositive\u001b[38;5;241m=\u001b[39m\u001b[38;5;124m'\u001b[39m\u001b[38;5;124mclip\u001b[39m\u001b[38;5;124m'\u001b[39m)\n",
      "File \u001b[1;32me:\\Accent-Dataset\\.venv\\lib\\site-packages\\matplotlib\\axes\\_base.py:2549\u001b[0m, in \u001b[0;36m_AxesBase._process_unit_info\u001b[1;34m(self, datasets, kwargs, convert)\u001b[0m\n\u001b[0;32m   2547\u001b[0m     \u001b[38;5;66;03m# Update from data if axis is already set but no unit is set yet.\u001b[39;00m\n\u001b[0;32m   2548\u001b[0m     \u001b[38;5;28;01mif\u001b[39;00m axis \u001b[38;5;129;01mis\u001b[39;00m \u001b[38;5;129;01mnot\u001b[39;00m \u001b[38;5;28;01mNone\u001b[39;00m \u001b[38;5;129;01mand\u001b[39;00m data \u001b[38;5;129;01mis\u001b[39;00m \u001b[38;5;129;01mnot\u001b[39;00m \u001b[38;5;28;01mNone\u001b[39;00m \u001b[38;5;129;01mand\u001b[39;00m \u001b[38;5;129;01mnot\u001b[39;00m axis\u001b[38;5;241m.\u001b[39mhave_units():\n\u001b[1;32m-> 2549\u001b[0m         \u001b[43maxis\u001b[49m\u001b[38;5;241;43m.\u001b[39;49m\u001b[43mupdate_units\u001b[49m\u001b[43m(\u001b[49m\u001b[43mdata\u001b[49m\u001b[43m)\u001b[49m\n\u001b[0;32m   2550\u001b[0m \u001b[38;5;28;01mfor\u001b[39;00m axis_name, axis \u001b[38;5;129;01min\u001b[39;00m axis_map\u001b[38;5;241m.\u001b[39mitems():\n\u001b[0;32m   2551\u001b[0m     \u001b[38;5;66;03m# Return if no axis is set.\u001b[39;00m\n\u001b[0;32m   2552\u001b[0m     \u001b[38;5;28;01mif\u001b[39;00m axis \u001b[38;5;129;01mis\u001b[39;00m \u001b[38;5;28;01mNone\u001b[39;00m:\n",
      "File \u001b[1;32me:\\Accent-Dataset\\.venv\\lib\\site-packages\\matplotlib\\axis.py:1713\u001b[0m, in \u001b[0;36mAxis.update_units\u001b[1;34m(self, data)\u001b[0m\n\u001b[0;32m   1711\u001b[0m neednew \u001b[38;5;241m=\u001b[39m \u001b[38;5;28mself\u001b[39m\u001b[38;5;241m.\u001b[39mconverter \u001b[38;5;241m!=\u001b[39m converter\n\u001b[0;32m   1712\u001b[0m \u001b[38;5;28mself\u001b[39m\u001b[38;5;241m.\u001b[39mconverter \u001b[38;5;241m=\u001b[39m converter\n\u001b[1;32m-> 1713\u001b[0m default \u001b[38;5;241m=\u001b[39m \u001b[38;5;28;43mself\u001b[39;49m\u001b[38;5;241;43m.\u001b[39;49m\u001b[43mconverter\u001b[49m\u001b[38;5;241;43m.\u001b[39;49m\u001b[43mdefault_units\u001b[49m\u001b[43m(\u001b[49m\u001b[43mdata\u001b[49m\u001b[43m,\u001b[49m\u001b[43m \u001b[49m\u001b[38;5;28;43mself\u001b[39;49m\u001b[43m)\u001b[49m\n\u001b[0;32m   1714\u001b[0m \u001b[38;5;28;01mif\u001b[39;00m default \u001b[38;5;129;01mis\u001b[39;00m \u001b[38;5;129;01mnot\u001b[39;00m \u001b[38;5;28;01mNone\u001b[39;00m \u001b[38;5;129;01mand\u001b[39;00m \u001b[38;5;28mself\u001b[39m\u001b[38;5;241m.\u001b[39munits \u001b[38;5;129;01mis\u001b[39;00m \u001b[38;5;28;01mNone\u001b[39;00m:\n\u001b[0;32m   1715\u001b[0m     \u001b[38;5;28mself\u001b[39m\u001b[38;5;241m.\u001b[39mset_units(default)\n",
      "File \u001b[1;32me:\\Accent-Dataset\\.venv\\lib\\site-packages\\matplotlib\\category.py:105\u001b[0m, in \u001b[0;36mStrCategoryConverter.default_units\u001b[1;34m(data, axis)\u001b[0m\n\u001b[0;32m    103\u001b[0m \u001b[38;5;66;03m# the conversion call stack is default_units -> axis_info -> convert\u001b[39;00m\n\u001b[0;32m    104\u001b[0m \u001b[38;5;28;01mif\u001b[39;00m axis\u001b[38;5;241m.\u001b[39munits \u001b[38;5;129;01mis\u001b[39;00m \u001b[38;5;28;01mNone\u001b[39;00m:\n\u001b[1;32m--> 105\u001b[0m     axis\u001b[38;5;241m.\u001b[39mset_units(\u001b[43mUnitData\u001b[49m\u001b[43m(\u001b[49m\u001b[43mdata\u001b[49m\u001b[43m)\u001b[49m)\n\u001b[0;32m    106\u001b[0m \u001b[38;5;28;01melse\u001b[39;00m:\n\u001b[0;32m    107\u001b[0m     axis\u001b[38;5;241m.\u001b[39munits\u001b[38;5;241m.\u001b[39mupdate(data)\n",
      "File \u001b[1;32me:\\Accent-Dataset\\.venv\\lib\\site-packages\\matplotlib\\category.py:181\u001b[0m, in \u001b[0;36mUnitData.__init__\u001b[1;34m(self, data)\u001b[0m\n\u001b[0;32m    179\u001b[0m \u001b[38;5;28mself\u001b[39m\u001b[38;5;241m.\u001b[39m_counter \u001b[38;5;241m=\u001b[39m itertools\u001b[38;5;241m.\u001b[39mcount()\n\u001b[0;32m    180\u001b[0m \u001b[38;5;28;01mif\u001b[39;00m data \u001b[38;5;129;01mis\u001b[39;00m \u001b[38;5;129;01mnot\u001b[39;00m \u001b[38;5;28;01mNone\u001b[39;00m:\n\u001b[1;32m--> 181\u001b[0m     \u001b[38;5;28;43mself\u001b[39;49m\u001b[38;5;241;43m.\u001b[39;49m\u001b[43mupdate\u001b[49m\u001b[43m(\u001b[49m\u001b[43mdata\u001b[49m\u001b[43m)\u001b[49m\n",
      "File \u001b[1;32me:\\Accent-Dataset\\.venv\\lib\\site-packages\\matplotlib\\category.py:214\u001b[0m, in \u001b[0;36mUnitData.update\u001b[1;34m(self, data)\u001b[0m\n\u001b[0;32m    212\u001b[0m \u001b[38;5;66;03m# check if convertible to number:\u001b[39;00m\n\u001b[0;32m    213\u001b[0m convertible \u001b[38;5;241m=\u001b[39m \u001b[38;5;28;01mTrue\u001b[39;00m\n\u001b[1;32m--> 214\u001b[0m \u001b[38;5;28;01mfor\u001b[39;00m val \u001b[38;5;129;01min\u001b[39;00m \u001b[43mOrderedDict\u001b[49m\u001b[38;5;241;43m.\u001b[39;49m\u001b[43mfromkeys\u001b[49m\u001b[43m(\u001b[49m\u001b[43mdata\u001b[49m\u001b[43m)\u001b[49m:\n\u001b[0;32m    215\u001b[0m     \u001b[38;5;66;03m# OrderedDict just iterates over unique values in data.\u001b[39;00m\n\u001b[0;32m    216\u001b[0m     _api\u001b[38;5;241m.\u001b[39mcheck_isinstance((\u001b[38;5;28mstr\u001b[39m, \u001b[38;5;28mbytes\u001b[39m), value\u001b[38;5;241m=\u001b[39mval)\n\u001b[0;32m    217\u001b[0m     \u001b[38;5;28;01mif\u001b[39;00m convertible:\n\u001b[0;32m    218\u001b[0m         \u001b[38;5;66;03m# this will only be called so long as convertible is True.\u001b[39;00m\n",
      "\u001b[1;31mTypeError\u001b[0m: unhashable type: 'dict'"
     ]
    },
    {
     "data": {
      "image/png": "[encoded data removed]",
      "text/plain": [
       "<Figure size 640x480 with 1 Axes>"
      ]
     },
     "metadata": {},
     "output_type": "display_data"
    }
   ],
   "source": [
    "plt.bar(accent_counts,height=accent_value,width=accent_names)\n",
    "plt.show()"
   ]
  },
  {
   "cell_type": "code",
   "execution_count": 14,
   "metadata": {},
   "outputs": [
    {
     "ename": "ValueError",
     "evalue": "If using all scalar values, you must pass an index",
     "output_type": "error",
     "traceback": [
      "\u001b[1;31m---------------------------------------------------------------------------\u001b[0m",
      "\u001b[1;31mValueError\u001b[0m                                Traceback (most recent call last)",
      "Cell \u001b[1;32mIn[14], line 1\u001b[0m\n\u001b[1;32m----> 1\u001b[0m accentFeq\u001b[38;5;241m=\u001b[39m\u001b[43mpd\u001b[49m\u001b[38;5;241;43m.\u001b[39;49m\u001b[43mDataFrame\u001b[49m\u001b[43m(\u001b[49m\u001b[43maccent_counts\u001b[49m\u001b[43m,\u001b[49m\u001b[43mcolumns\u001b[49m\u001b[38;5;241;43m=\u001b[39;49m\u001b[43maccent_names\u001b[49m\u001b[43m)\u001b[49m\n\u001b[0;32m      2\u001b[0m accentFeq\n",
      "File \u001b[1;32me:\\Accent-Dataset\\.venv\\lib\\site-packages\\pandas\\core\\frame.py:709\u001b[0m, in \u001b[0;36mDataFrame.__init__\u001b[1;34m(self, data, index, columns, dtype, copy)\u001b[0m\n\u001b[0;32m    703\u001b[0m     mgr \u001b[38;5;241m=\u001b[39m \u001b[38;5;28mself\u001b[39m\u001b[38;5;241m.\u001b[39m_init_mgr(\n\u001b[0;32m    704\u001b[0m         data, axes\u001b[38;5;241m=\u001b[39m{\u001b[38;5;124m\"\u001b[39m\u001b[38;5;124mindex\u001b[39m\u001b[38;5;124m\"\u001b[39m: index, \u001b[38;5;124m\"\u001b[39m\u001b[38;5;124mcolumns\u001b[39m\u001b[38;5;124m\"\u001b[39m: columns}, dtype\u001b[38;5;241m=\u001b[39mdtype, copy\u001b[38;5;241m=\u001b[39mcopy\n\u001b[0;32m    705\u001b[0m     )\n\u001b[0;32m    707\u001b[0m \u001b[38;5;28;01melif\u001b[39;00m \u001b[38;5;28misinstance\u001b[39m(data, \u001b[38;5;28mdict\u001b[39m):\n\u001b[0;32m    708\u001b[0m     \u001b[38;5;66;03m# GH#38939 de facto copy defaults to False only in non-dict cases\u001b[39;00m\n\u001b[1;32m--> 709\u001b[0m     mgr \u001b[38;5;241m=\u001b[39m \u001b[43mdict_to_mgr\u001b[49m\u001b[43m(\u001b[49m\u001b[43mdata\u001b[49m\u001b[43m,\u001b[49m\u001b[43m \u001b[49m\u001b[43mindex\u001b[49m\u001b[43m,\u001b[49m\u001b[43m \u001b[49m\u001b[43mcolumns\u001b[49m\u001b[43m,\u001b[49m\u001b[43m \u001b[49m\u001b[43mdtype\u001b[49m\u001b[38;5;241;43m=\u001b[39;49m\u001b[43mdtype\u001b[49m\u001b[43m,\u001b[49m\u001b[43m \u001b[49m\u001b[43mcopy\u001b[49m\u001b[38;5;241;43m=\u001b[39;49m\u001b[43mcopy\u001b[49m\u001b[43m,\u001b[49m\u001b[43m \u001b[49m\u001b[43mtyp\u001b[49m\u001b[38;5;241;43m=\u001b[39;49m\u001b[43mmanager\u001b[49m\u001b[43m)\u001b[49m\n\u001b[0;32m    710\u001b[0m \u001b[38;5;28;01melif\u001b[39;00m \u001b[38;5;28misinstance\u001b[39m(data, ma\u001b[38;5;241m.\u001b[39mMaskedArray):\n\u001b[0;32m    711\u001b[0m     \u001b[38;5;28;01mfrom\u001b[39;00m \u001b[38;5;21;01mnumpy\u001b[39;00m\u001b[38;5;21;01m.\u001b[39;00m\u001b[38;5;21;01mma\u001b[39;00m \u001b[38;5;28;01mimport\u001b[39;00m mrecords\n",
      "File \u001b[1;32me:\\Accent-Dataset\\.venv\\lib\\site-packages\\pandas\\core\\internals\\construction.py:436\u001b[0m, in \u001b[0;36mdict_to_mgr\u001b[1;34m(data, index, columns, dtype, typ, copy)\u001b[0m\n\u001b[0;32m    432\u001b[0m missing \u001b[38;5;241m=\u001b[39m arrays\u001b[38;5;241m.\u001b[39misna()\n\u001b[0;32m    433\u001b[0m \u001b[38;5;28;01mif\u001b[39;00m index \u001b[38;5;129;01mis\u001b[39;00m \u001b[38;5;28;01mNone\u001b[39;00m:\n\u001b[0;32m    434\u001b[0m     \u001b[38;5;66;03m# GH10856\u001b[39;00m\n\u001b[0;32m    435\u001b[0m     \u001b[38;5;66;03m# raise ValueError if only scalars in dict\u001b[39;00m\n\u001b[1;32m--> 436\u001b[0m     index \u001b[38;5;241m=\u001b[39m \u001b[43m_extract_index\u001b[49m\u001b[43m(\u001b[49m\u001b[43marrays\u001b[49m\u001b[43m[\u001b[49m\u001b[38;5;241;43m~\u001b[39;49m\u001b[43mmissing\u001b[49m\u001b[43m]\u001b[49m\u001b[43m)\u001b[49m\n\u001b[0;32m    437\u001b[0m \u001b[38;5;28;01melse\u001b[39;00m:\n\u001b[0;32m    438\u001b[0m     index \u001b[38;5;241m=\u001b[39m ensure_index(index)\n",
      "File \u001b[1;32me:\\Accent-Dataset\\.venv\\lib\\site-packages\\pandas\\core\\internals\\construction.py:645\u001b[0m, in \u001b[0;36m_extract_index\u001b[1;34m(data)\u001b[0m\n\u001b[0;32m    642\u001b[0m         \u001b[38;5;28;01mraise\u001b[39;00m \u001b[38;5;167;01mValueError\u001b[39;00m(\u001b[38;5;124m\"\u001b[39m\u001b[38;5;124mPer-column arrays must each be 1-dimensional\u001b[39m\u001b[38;5;124m\"\u001b[39m)\n\u001b[0;32m    644\u001b[0m \u001b[38;5;28;01mif\u001b[39;00m \u001b[38;5;129;01mnot\u001b[39;00m indexes \u001b[38;5;129;01mand\u001b[39;00m \u001b[38;5;129;01mnot\u001b[39;00m raw_lengths:\n\u001b[1;32m--> 645\u001b[0m     \u001b[38;5;28;01mraise\u001b[39;00m \u001b[38;5;167;01mValueError\u001b[39;00m(\u001b[38;5;124m\"\u001b[39m\u001b[38;5;124mIf using all scalar values, you must pass an index\u001b[39m\u001b[38;5;124m\"\u001b[39m)\n\u001b[0;32m    647\u001b[0m \u001b[38;5;28;01mif\u001b[39;00m have_series:\n\u001b[0;32m    648\u001b[0m     index \u001b[38;5;241m=\u001b[39m union_indexes(indexes)\n",
      "\u001b[1;31mValueError\u001b[0m: If using all scalar values, you must pass an index"
     ]
    }
   ],
   "source": [
    "accentFeq=pd.DataFrame(accent_counts,columns=accent_names)\n",
    "accentFeq"
   ]
  },
  {
   "cell_type": "code",
   "execution_count": 16,
   "metadata": {},
   "outputs": [],
   "source": [
    "audio_bytes = df['audio'][0]['bytes']"
   ]
  },
  {
   "cell_type": "code",
   "execution_count": 17,
   "metadata": {},
   "outputs": [],
   "source": [
    "output_file_path = 'output_audio.wav'"
   ]
  },
  {
   "cell_type": "code",
   "execution_count": 18,
   "metadata": {},
   "outputs": [],
   "source": [
    "audio = Audio(audio_bytes)"
   ]
  },
  {
   "cell_type": "code",
   "execution_count": 19,
   "metadata": {},
   "outputs": [],
   "source": [
    "audio_data = audio.data"
   ]
  },
  {
   "cell_type": "code",
   "execution_count": 20,
   "metadata": {},
   "outputs": [
    {
     "name": "stdout",
     "output_type": "stream",
     "text": [
      "Audio saved to output_audio.wav\n"
     ]
    }
   ],
   "source": [
    "# Save the raw bytes to a .wav file\n",
    "with open(output_file_path, 'wb') as file:\n",
    "    file.write(audio_data)\n",
    "\n",
    "print(f\"Audio saved to {output_file_path}\")"
   ]
  },
  {
   "cell_type": "code",
   "execution_count": null,
   "metadata": {},
   "outputs": [],
   "source": []
  }
 ],
 "metadata": {
  "kernelspec": {
   "display_name": ".venv",
   "language": "python",
   "name": "python3"
  },
  "language_info": {
   "codemirror_mode": {
    "name": "ipython",
    "version": 3
   },
   "file_extension": ".py",
   "mimetype": "text/x-python",
   "name": "python",
   "nbconvert_exporter": "python",
   "pygments_lexer": "ipython3",
   "version": "3.8.0"
  }
 },
 "nbformat": 4,
 "nbformat_minor": 2
}
